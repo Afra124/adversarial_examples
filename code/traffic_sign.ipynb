{
 "cells": [
  {
   "cell_type": "code",
   "execution_count": 1,
   "metadata": {},
   "outputs": [
    {
     "name": "stderr",
     "output_type": "stream",
     "text": [
      "Using TensorFlow backend.\n"
     ]
    },
    {
     "data": {
      "text/plain": [
       "<Figure size 640x480 with 1 Axes>"
      ]
     },
     "metadata": {},
     "output_type": "display_data"
    },
    {
     "name": "stdout",
     "output_type": "stream",
     "text": [
      "label=1 conf=0.060786809772253036\n",
      "1: 0.06\n",
      "label=23 conf=0.060786809772253036\n",
      "23: 0.06\n",
      "label=41 conf=0.060786809772253036\n",
      "41: 0.06\n"
     ]
    },
    {
     "data": {
      "text/plain": [
       "<Figure size 640x480 with 1 Axes>"
      ]
     },
     "metadata": {},
     "output_type": "display_data"
    }
   ],
   "source": [
    "import os\n",
    "import sys\n",
    "import cv2\n",
    "import numpy as np\n",
    "from pandas import read_csv\n",
    "#pip install moviepy\n",
    "#pip install requests\n",
    "from moviepy.editor import *\n",
    "from matplotlib import pyplot as plt \n",
    "import keras\n",
    "from keras.layers.convolutional import Convolution2D, MaxPooling2D\n",
    "from keras.layers.core import Activation, Dense, Dropout, Flatten\n",
    "from keras.layers.normalization import BatchNormalization\n",
    "from keras.models import Sequential\n",
    "import tensorflow as tf\n",
    "\n",
    "\n",
    "infile=\"../picture/v.mp4\"\n",
    "outfile=\"../picture/v-output.mp4\"\n",
    "\n",
    "'''\n",
    "Code adapted from:\n",
    "https://www.pyimagesearch.com/2016/11/07/intersection-over-union-iou-for-object-detection/\n",
    "\n",
    "'''\n",
    "\n",
    "IMG_SHAPE=[32,32,3]\n",
    "INPUT_SHAPE=[1,32,32,3]\n",
    "L2_LAMBDA = 0.0001   \n",
    "WEIGTHS_PATH=\"../doc/weights_mltscl_dataaug.hdf5\"\n",
    "OUTPUT_DIM=43\n",
    "LR = 0.0001\n",
    "CONF_THRES=0.5\n",
    "\n",
    "# Labels of circlur signs\n",
    "cir_cls = [0, 1, 2, 3, 4, 5, 6, 7, 8, 9, 10, 15, 16,\n",
    "           17, 32, 33, 34, 35, 36, 37, 38, 39, 40, 41, 42]\n",
    "\n",
    "signnames = read_csv(\"../doc/signnames.csv\").values[:, 1]\n",
    "\n",
    "def softmax(x):\n",
    "    \"\"\"\n",
    "    Compute softmax values for each sets of scores in x.\n",
    "    Ref: https://stackoverflow.com/questions/34968722/softmax-function-python\n",
    "    \"\"\"\n",
    "    e_x = np.exp(x - np.max(x))\n",
    "    return e_x / e_x.sum(axis=0)\n",
    "\n",
    "def build_mltscl():\n",
    "    \"\"\"\n",
    "    Build multiscale CNN. The last layer must be logits instead of softmax.\n",
    "    Return a compiled Keras model.\n",
    "    \"\"\"\n",
    "\n",
    "    # Regularization\n",
    "    l2_reg = keras.regularizers.l2(L2_LAMBDA)\n",
    "\n",
    "    # Build model\n",
    "    inpt = keras.layers.Input(shape=IMG_SHAPE)\n",
    "    conv1 = keras.layers.Convolution2D(\n",
    "        32, (5, 5), padding='same', activation='relu')(inpt)\n",
    "    drop1 = keras.layers.Dropout(rate=0.1)(conv1)\n",
    "    pool1 = keras.layers.MaxPooling2D(pool_size=(2, 2))(drop1)\n",
    "\n",
    "    conv2 = keras.layers.Convolution2D(\n",
    "        64, (5, 5), padding='same', activation='relu')(pool1)\n",
    "    drop2 = keras.layers.Dropout(rate=0.2)(conv2)\n",
    "    pool2 = keras.layers.MaxPooling2D(pool_size=(2, 2))(drop2)\n",
    "\n",
    "    conv3 = keras.layers.Convolution2D(\n",
    "        128, (5, 5), padding='same', activation='relu')(pool2)\n",
    "    drop3 = keras.layers.Dropout(rate=0.3)(conv3)\n",
    "    pool3 = keras.layers.MaxPooling2D(pool_size=(2, 2))(drop3)\n",
    "\n",
    "    pool4 = keras.layers.MaxPooling2D(pool_size=(4, 4))(pool1)\n",
    "    pool5 = keras.layers.MaxPooling2D(pool_size=(2, 2))(pool2)\n",
    "\n",
    "    flat1 = keras.layers.Flatten()(pool4)\n",
    "    flat2 = keras.layers.Flatten()(pool5)\n",
    "    flat3 = keras.layers.Flatten()(pool3)\n",
    "\n",
    "    merge = keras.layers.Concatenate(axis=-1)([flat1, flat2, flat3])\n",
    "    dense1 = keras.layers.Dense(1024, activation='relu',\n",
    "                                kernel_regularizer=l2_reg)(merge)\n",
    "    drop4 = keras.layers.Dropout(rate=0.5)(dense1)\n",
    "    output = keras.layers.Dense(\n",
    "        OUTPUT_DIM, activation='softmax', kernel_regularizer=l2_reg)(drop4)\n",
    "    model = keras.models.Model(inputs=inpt, outputs=output)\n",
    "\n",
    "    # Specify optimizer\n",
    "    adam = keras.optimizers.Adam(\n",
    "        lr=LR, beta_1=0.9, beta_2=0.999, epsilon=1e-08, decay=0.0)\n",
    "    \n",
    "    model.compile(optimizer=adam, loss='categorical_crossentropy', metrics=['accuracy'])\n",
    "\n",
    "    return model\n",
    "\n",
    "model=build_mltscl()\n",
    "model.load_weights(WEIGTHS_PATH)\n",
    "#model.summary()\n",
    "\n",
    "def rgb2gray(image):\n",
    "    \"\"\"Convert 3-channel RGB image into grayscale\"\"\"\n",
    "    if image.ndim == 3:\n",
    "        return (0.299 * image[:, :, 0] + 0.587 * image[:, :, 1] +\n",
    "                0.114 * image[:, :, 2])\n",
    "    elif image.ndim == 4:\n",
    "        return (0.299 * image[:, :, :, 0] + 0.587 * image[:, :, :, 1] +\n",
    "                0.114 * image[:, :, :, 2])\n",
    "\n",
    "#识别原型的交通牌\n",
    "def find_circles(img, mg_ratio=0.4, n_circles=1):\n",
    "    \"\"\"\n",
    "    Find circular objects and return bounding boxes in the format\n",
    "    [x1, y1, x2, y2]\n",
    "    \"\"\"\n",
    "\n",
    "    targetImg = np.copy(img)\n",
    "    targetImg = np.uint8(targetImg * 255)\n",
    "    # Apply Gaussian blur if needed\n",
    "    n = 13\n",
    "    targetImg = cv2.GaussianBlur(targetImg, (n, n), 0)\n",
    "\n",
    "    # Convert to grayscale\n",
    "    grayImg = np.uint8(rgb2gray(targetImg))\n",
    "    #grayImg = targetImg\n",
    "    # param1 is canny threshold, param2 is circle accumulator threshold\n",
    "    # Set of parameters for GTSDB testing\n",
    "    # (because of different frame size and recording device)\n",
    "    # circles = cv2.HoughCircles(grayImg, cv2.HOUGH_GRADIENT, 1, 200,\n",
    "    #                            param1=60, param2=50, minRadius=5,\n",
    "    #                            maxRadius=100)\n",
    "    circles = cv2.HoughCircles(grayImg, cv2.HOUGH_GRADIENT, 1, 200,\n",
    "                               param1=50, param2=30, minRadius=20,\n",
    "                               maxRadius=250)\n",
    "\n",
    "    bboxes = []\n",
    "    try:\n",
    "        cir = circles.astype(np.uint16)\n",
    "        for c in cir[0, :n_circles]:\n",
    "            r = int(c[2])\n",
    "            mg = int(r * mg_ratio)\n",
    "            bboxes.append([c[0] - r - mg, c[1] - r - mg,\n",
    "                           c[0] + r + mg, c[1] + r + mg])\n",
    "    except AttributeError:\n",
    "        pass\n",
    "    except:\n",
    "        raise\n",
    "    return bboxes\n",
    "\n",
    "\n",
    "def draw_bb(img, bbox, color=(0, 1, 0)):\n",
    "    \"\"\"Draw bounding box\"\"\"\n",
    "    cv2.rectangle(img, (bbox[0], bbox[1]), (bbox[2], bbox[3]),\n",
    "                  color, 2)\n",
    "    return img\n",
    "\n",
    "def crop_bb(img, bbox):\n",
    "    \"\"\"Crop image by specifying bounding box\"\"\"\n",
    "    bb = np.array(bbox)\n",
    "    bb = bb * (bb > 0)\n",
    "    return img[bb[1]:bb[3], bb[0]:bb[2], :]\n",
    "\n",
    "\n",
    "def demo():\n",
    "    \n",
    "    demo_file=\"../picture/traffic_sign.jpeg\"\n",
    "    #OpenCV读取的格式为BGR 需要转换成RGB进行展现\n",
    "    demo_img=cv2.imread(demo_file)\n",
    "    demo_img = cv2.cvtColor(demo_img, cv2.COLOR_BGR2RGB) \n",
    "    show_img=demo_img.copy()\n",
    "    plt.imshow(show_img) \n",
    "    plt.show() \n",
    "        \n",
    "    bboxes = find_circles(show_img.copy(), mg_ratio=0.4, n_circles=3)\n",
    "    for bbox in bboxes:\n",
    "        crop = crop_bb(show_img, bbox)\n",
    "        #resized_im = resize(crop)\n",
    "        resized_im=cv2.resize(crop,(32,32))\n",
    "        resized_im = np.expand_dims(resized_im, axis=0)\n",
    "        #label = signnames[predict(model, resized_im)]\n",
    "        label = np.argmax(model.predict([resized_im]))\n",
    "        conf = np.max(softmax(model.predict(\n",
    "            resized_im.reshape(INPUT_SHAPE))[0]))\n",
    "        # Consider detection only if confidence is larger than threshold\n",
    "        print(\"label={} conf={}\".format(label,conf))\n",
    "        if (conf > CONF_THRES ) and  (label in cir_cls) :\n",
    "            print(\"Draw label={} conf={}\".format(label,conf))\n",
    "            show_img = draw_bb(show_img, bbox)\n",
    "            # Put label and confidence\n",
    "            cv2.putText(show_img, '{}: {:.2f}'.format(signnames[label], conf), (bbox[0], bbox[1] - 10),\n",
    "                        cv2.FONT_HERSHEY_SIMPLEX, 1, (0, 1, 0), 2)\n",
    "        else:\n",
    "            print('{}: {:.2f}'.format(label, conf))\n",
    "\n",
    "    \n",
    "    plt.imshow(show_img) \n",
    "    plt.show() \n",
    "demo()\n"
   ]
  },
  {
   "cell_type": "code",
   "execution_count": null,
   "metadata": {},
   "outputs": [
    {
     "name": "stdout",
     "output_type": "stream",
     "text": [
      "label=39 conf=0.06078679487109184\n",
      "39: 0.06\n",
      "label=22 conf=0.060786809772253036\n",
      "22: 0.06\n",
      "label=35 conf=0.060786809772253036\n",
      "35: 0.06\n",
      "[MoviePy] >>>> Building video ../picture/v-output.mp4\n",
      "[MoviePy] Writing audio in v-outputTEMP_MPY_wvf_snd.mp3\n"
     ]
    },
    {
     "name": "stderr",
     "output_type": "stream",
     "text": [
      "100%|██████████| 314/314 [00:00<00:00, 349.75it/s]"
     ]
    },
    {
     "name": "stdout",
     "output_type": "stream",
     "text": [
      "[MoviePy] Done.\n",
      "[MoviePy] Writing video ../picture/v-output.mp4\n"
     ]
    },
    {
     "name": "stderr",
     "output_type": "stream",
     "text": [
      "\n",
      "  0%|          | 1/426 [00:00<03:53,  1.82it/s]"
     ]
    },
    {
     "name": "stdout",
     "output_type": "stream",
     "text": [
      "label=39 conf=0.06078679487109184\n",
      "39: 0.06\n",
      "label=22 conf=0.060786809772253036\n",
      "22: 0.06\n",
      "label=35 conf=0.060786809772253036\n",
      "35: 0.06\n"
     ]
    },
    {
     "name": "stderr",
     "output_type": "stream",
     "text": [
      "\r",
      "  0%|          | 2/426 [00:01<04:03,  1.74it/s]"
     ]
    },
    {
     "name": "stdout",
     "output_type": "stream",
     "text": [
      "label=34 conf=0.060786809772253036\n",
      "34: 0.06\n",
      "label=41 conf=0.060786809772253036\n",
      "41: 0.06\n",
      "label=22 conf=0.060786809772253036\n",
      "22: 0.06\n"
     ]
    },
    {
     "name": "stderr",
     "output_type": "stream",
     "text": [
      "\r",
      "  1%|          | 3/426 [00:01<04:02,  1.74it/s]"
     ]
    },
    {
     "name": "stdout",
     "output_type": "stream",
     "text": [
      "label=34 conf=0.060786809772253036\n",
      "34: 0.06\n",
      "label=13 conf=0.060786809772253036\n",
      "13: 0.06\n",
      "label=41 conf=0.060786809772253036\n",
      "41: 0.06\n"
     ]
    },
    {
     "name": "stderr",
     "output_type": "stream",
     "text": [
      "\r",
      "  1%|          | 4/426 [00:02<03:58,  1.77it/s]"
     ]
    },
    {
     "name": "stdout",
     "output_type": "stream",
     "text": [
      "label=41 conf=0.060786809772253036\n",
      "41: 0.06\n",
      "label=39 conf=0.060786809772253036\n",
      "39: 0.06\n",
      "label=41 conf=0.060786809772253036\n",
      "41: 0.06\n"
     ]
    },
    {
     "name": "stderr",
     "output_type": "stream",
     "text": [
      "\r",
      "  1%|          | 5/426 [00:02<03:50,  1.83it/s]"
     ]
    },
    {
     "name": "stdout",
     "output_type": "stream",
     "text": [
      "label=34 conf=0.060786809772253036\n",
      "34: 0.06\n",
      "label=39 conf=0.060786809772253036\n",
      "39: 0.06\n",
      "label=41 conf=0.060786809772253036\n",
      "41: 0.06\n"
     ]
    },
    {
     "name": "stderr",
     "output_type": "stream",
     "text": [
      "\r",
      "  1%|▏         | 6/426 [00:03<03:33,  1.97it/s]"
     ]
    },
    {
     "name": "stdout",
     "output_type": "stream",
     "text": [
      "label=34 conf=0.060786809772253036\n",
      "34: 0.06\n",
      "label=42 conf=0.060786809772253036\n",
      "42: 0.06\n",
      "label=41 conf=0.06078679487109184\n",
      "41: 0.06\n"
     ]
    },
    {
     "name": "stderr",
     "output_type": "stream",
     "text": [
      "\r",
      "  2%|▏         | 7/426 [00:03<03:27,  2.02it/s]"
     ]
    },
    {
     "name": "stdout",
     "output_type": "stream",
     "text": [
      "label=34 conf=0.060786809772253036\n",
      "34: 0.06\n",
      "label=39 conf=0.060786809772253036\n",
      "39: 0.06\n",
      "label=40 conf=0.060786809772253036\n",
      "40: 0.06\n"
     ]
    },
    {
     "name": "stderr",
     "output_type": "stream",
     "text": [
      "\r",
      "  2%|▏         | 8/426 [00:04<03:14,  2.14it/s]"
     ]
    },
    {
     "name": "stdout",
     "output_type": "stream",
     "text": [
      "label=34 conf=0.060783617198467255\n",
      "34: 0.06\n",
      "label=41 conf=0.060786809772253036\n",
      "41: 0.06\n",
      "label=39 conf=0.060786809772253036\n",
      "39: 0.06\n"
     ]
    },
    {
     "name": "stderr",
     "output_type": "stream",
     "text": [
      "\r",
      "  2%|▏         | 9/426 [00:04<03:07,  2.23it/s]"
     ]
    },
    {
     "name": "stdout",
     "output_type": "stream",
     "text": [
      "label=34 conf=0.060786809772253036\n",
      "34: 0.06\n",
      "label=39 conf=0.060786809772253036\n",
      "39: 0.06\n",
      "label=41 conf=0.060786809772253036\n",
      "41: 0.06\n"
     ]
    },
    {
     "name": "stderr",
     "output_type": "stream",
     "text": [
      "\r",
      "  2%|▏         | 10/426 [00:04<03:08,  2.21it/s]"
     ]
    },
    {
     "name": "stdout",
     "output_type": "stream",
     "text": [
      "label=34 conf=0.060786809772253036\n",
      "34: 0.06\n",
      "label=39 conf=0.060786809772253036\n",
      "39: 0.06\n",
      "label=22 conf=0.060786809772253036\n",
      "22: 0.06\n"
     ]
    },
    {
     "name": "stderr",
     "output_type": "stream",
     "text": [
      "\r",
      "  3%|▎         | 11/426 [00:05<03:02,  2.27it/s]"
     ]
    },
    {
     "name": "stdout",
     "output_type": "stream",
     "text": [
      "label=22 conf=0.060786809772253036\n",
      "22: 0.06\n",
      "label=41 conf=0.0603838749229908\n",
      "41: 0.06\n",
      "label=40 conf=0.060786809772253036\n",
      "40: 0.06\n"
     ]
    },
    {
     "name": "stderr",
     "output_type": "stream",
     "text": [
      "\r",
      "  3%|▎         | 12/426 [00:05<03:05,  2.23it/s]"
     ]
    },
    {
     "name": "stdout",
     "output_type": "stream",
     "text": [
      "label=33 conf=0.060786809772253036\n",
      "33: 0.06\n",
      "label=41 conf=0.060786809772253036\n",
      "41: 0.06\n",
      "label=15 conf=0.060786809772253036\n",
      "15: 0.06\n"
     ]
    },
    {
     "name": "stderr",
     "output_type": "stream",
     "text": [
      "\r",
      "  3%|▎         | 13/426 [00:06<03:00,  2.28it/s]"
     ]
    },
    {
     "name": "stdout",
     "output_type": "stream",
     "text": [
      "label=40 conf=0.060786809772253036\n",
      "40: 0.06\n",
      "label=41 conf=0.060769204050302505\n",
      "41: 0.06\n",
      "label=39 conf=0.060786809772253036\n",
      "39: 0.06\n"
     ]
    },
    {
     "name": "stderr",
     "output_type": "stream",
     "text": [
      "\r",
      "  3%|▎         | 14/426 [00:06<02:58,  2.31it/s]"
     ]
    },
    {
     "name": "stdout",
     "output_type": "stream",
     "text": [
      "label=22 conf=0.060126032680273056\n",
      "22: 0.06\n",
      "label=41 conf=0.060786809772253036\n",
      "41: 0.06\n",
      "label=22 conf=0.060786809772253036\n",
      "22: 0.06\n"
     ]
    },
    {
     "name": "stderr",
     "output_type": "stream",
     "text": [
      "\r",
      "  4%|▎         | 15/426 [00:07<03:01,  2.27it/s]"
     ]
    },
    {
     "name": "stdout",
     "output_type": "stream",
     "text": [
      "label=39 conf=0.060786809772253036\n",
      "39: 0.06\n",
      "label=40 conf=0.060786809772253036\n",
      "40: 0.06\n",
      "label=36 conf=0.060786809772253036\n",
      "36: 0.06\n"
     ]
    },
    {
     "name": "stderr",
     "output_type": "stream",
     "text": [
      "\r",
      "  4%|▍         | 16/426 [00:07<02:52,  2.37it/s]"
     ]
    },
    {
     "name": "stdout",
     "output_type": "stream",
     "text": [
      "label=40 conf=0.060786809772253036\n",
      "40: 0.06\n",
      "label=41 conf=0.060786809772253036\n",
      "41: 0.06\n",
      "label=41 conf=0.060786809772253036\n",
      "41: 0.06\n"
     ]
    },
    {
     "name": "stderr",
     "output_type": "stream",
     "text": [
      "\r",
      "  4%|▍         | 17/426 [00:07<02:56,  2.31it/s]"
     ]
    },
    {
     "name": "stdout",
     "output_type": "stream",
     "text": [
      "label=41 conf=0.060786809772253036\n",
      "41: 0.06\n",
      "label=17 conf=0.060786809772253036\n",
      "17: 0.06\n",
      "label=40 conf=0.060786809772253036\n",
      "40: 0.06\n"
     ]
    },
    {
     "name": "stderr",
     "output_type": "stream",
     "text": [
      "\r",
      "  4%|▍         | 18/426 [00:08<02:51,  2.38it/s]"
     ]
    },
    {
     "name": "stdout",
     "output_type": "stream",
     "text": [
      "label=40 conf=0.060786809772253036\n",
      "40: 0.06\n",
      "label=41 conf=0.060786809772253036\n",
      "41: 0.06\n",
      "label=41 conf=0.060786809772253036\n",
      "41: 0.06\n"
     ]
    },
    {
     "name": "stderr",
     "output_type": "stream",
     "text": [
      "\r",
      "  4%|▍         | 19/426 [00:08<02:58,  2.28it/s]"
     ]
    },
    {
     "name": "stdout",
     "output_type": "stream",
     "text": [
      "label=40 conf=0.060786809772253036\n",
      "40: 0.06\n",
      "label=41 conf=0.060786809772253036\n",
      "41: 0.06\n",
      "label=22 conf=0.060786809772253036\n",
      "22: 0.06\n"
     ]
    },
    {
     "name": "stderr",
     "output_type": "stream",
     "text": [
      "\r",
      "  5%|▍         | 20/426 [00:09<03:13,  2.10it/s]"
     ]
    },
    {
     "name": "stdout",
     "output_type": "stream",
     "text": [
      "label=40 conf=0.060786809772253036\n",
      "40: 0.06\n",
      "label=22 conf=0.060786809772253036\n",
      "22: 0.06\n",
      "label=19 conf=0.060786809772253036\n",
      "19: 0.06\n"
     ]
    },
    {
     "name": "stderr",
     "output_type": "stream",
     "text": [
      "\r",
      "  5%|▍         | 21/426 [00:10<03:34,  1.89it/s]"
     ]
    },
    {
     "name": "stdout",
     "output_type": "stream",
     "text": [
      "label=41 conf=0.060786809772253036\n",
      "41: 0.06\n",
      "label=41 conf=0.060786809772253036\n",
      "41: 0.06\n",
      "label=40 conf=0.060786809772253036\n",
      "40: 0.06\n"
     ]
    },
    {
     "name": "stderr",
     "output_type": "stream",
     "text": [
      "\r",
      "  5%|▌         | 22/426 [00:10<03:32,  1.90it/s]"
     ]
    },
    {
     "name": "stdout",
     "output_type": "stream",
     "text": [
      "label=40 conf=0.060786809772253036\n",
      "40: 0.06\n",
      "label=41 conf=0.060786809772253036\n",
      "41: 0.06\n",
      "label=39 conf=0.060786809772253036\n",
      "39: 0.06\n"
     ]
    },
    {
     "name": "stderr",
     "output_type": "stream",
     "text": [
      "\r",
      "  5%|▌         | 23/426 [00:11<03:24,  1.97it/s]"
     ]
    },
    {
     "name": "stdout",
     "output_type": "stream",
     "text": [
      "label=22 conf=0.060786809772253036\n",
      "22: 0.06\n",
      "label=41 conf=0.060786809772253036\n",
      "41: 0.06\n",
      "label=22 conf=0.060786809772253036\n",
      "22: 0.06\n"
     ]
    },
    {
     "name": "stderr",
     "output_type": "stream",
     "text": [
      "\r",
      "  6%|▌         | 24/426 [00:11<03:30,  1.91it/s]"
     ]
    },
    {
     "name": "stdout",
     "output_type": "stream",
     "text": [
      "label=39 conf=0.060786809772253036\n",
      "39: 0.06\n",
      "label=41 conf=0.060786809772253036\n",
      "41: 0.06\n",
      "label=12 conf=0.060786809772253036\n",
      "12: 0.06\n"
     ]
    },
    {
     "name": "stderr",
     "output_type": "stream",
     "text": [
      "\r",
      "  6%|▌         | 25/426 [00:12<03:35,  1.86it/s]"
     ]
    },
    {
     "name": "stdout",
     "output_type": "stream",
     "text": [
      "label=41 conf=0.06078678369522095\n",
      "41: 0.06\n",
      "label=41 conf=0.060786809772253036\n",
      "41: 0.06\n",
      "label=39 conf=0.060786809772253036\n",
      "39: 0.06\n"
     ]
    },
    {
     "name": "stderr",
     "output_type": "stream",
     "text": [
      "\r",
      "  6%|▌         | 26/426 [00:12<03:30,  1.90it/s]"
     ]
    },
    {
     "name": "stdout",
     "output_type": "stream",
     "text": [
      "label=40 conf=0.060786809772253036\n",
      "40: 0.06\n",
      "label=41 conf=0.060786809772253036\n",
      "41: 0.06\n",
      "label=22 conf=0.060786809772253036\n",
      "22: 0.06\n"
     ]
    },
    {
     "name": "stderr",
     "output_type": "stream",
     "text": [
      "\r",
      "  6%|▋         | 27/426 [00:13<03:22,  1.97it/s]"
     ]
    },
    {
     "name": "stdout",
     "output_type": "stream",
     "text": [
      "label=41 conf=0.060786809772253036\n",
      "41: 0.06\n",
      "label=33 conf=0.06027248129248619\n",
      "33: 0.06\n",
      "label=39 conf=0.060786809772253036\n",
      "39: 0.06\n"
     ]
    },
    {
     "name": "stderr",
     "output_type": "stream",
     "text": [
      "\r",
      "  7%|▋         | 28/426 [00:13<03:12,  2.07it/s]"
     ]
    },
    {
     "name": "stdout",
     "output_type": "stream",
     "text": [
      "label=33 conf=0.06074363738298416\n",
      "33: 0.06\n",
      "label=17 conf=0.060786809772253036\n",
      "17: 0.06\n",
      "label=39 conf=0.060786809772253036\n",
      "39: 0.06\n"
     ]
    },
    {
     "name": "stderr",
     "output_type": "stream",
     "text": [
      "\r",
      "  7%|▋         | 29/426 [00:13<03:07,  2.12it/s]"
     ]
    },
    {
     "name": "stdout",
     "output_type": "stream",
     "text": [
      "label=33 conf=0.060786809772253036\n",
      "33: 0.06\n",
      "label=41 conf=0.060786809772253036\n",
      "41: 0.06\n",
      "label=39 conf=0.060786809772253036\n",
      "39: 0.06\n"
     ]
    },
    {
     "name": "stderr",
     "output_type": "stream",
     "text": [
      "\r",
      "  7%|▋         | 30/426 [00:14<03:07,  2.11it/s]"
     ]
    },
    {
     "name": "stdout",
     "output_type": "stream",
     "text": [
      "label=33 conf=0.060786809772253036\n",
      "33: 0.06\n",
      "label=14 conf=0.060786809772253036\n",
      "14: 0.06\n",
      "label=41 conf=0.060786809772253036\n",
      "41: 0.06\n"
     ]
    },
    {
     "name": "stderr",
     "output_type": "stream",
     "text": [
      "\r",
      "  7%|▋         | 31/426 [00:14<02:54,  2.26it/s]"
     ]
    },
    {
     "name": "stdout",
     "output_type": "stream",
     "text": [
      "label=39 conf=0.06050673499703407\n",
      "39: 0.06\n",
      "label=41 conf=0.060786809772253036\n",
      "41: 0.06\n",
      "label=34 conf=0.060786809772253036\n",
      "34: 0.06\n"
     ]
    },
    {
     "name": "stderr",
     "output_type": "stream",
     "text": [
      "\r",
      "  8%|▊         | 32/426 [00:15<02:49,  2.33it/s]"
     ]
    },
    {
     "name": "stdout",
     "output_type": "stream",
     "text": [
      "label=33 conf=0.054444052278995514\n",
      "33: 0.05\n",
      "label=34 conf=0.060786809772253036\n",
      "34: 0.06\n",
      "label=39 conf=0.060786809772253036\n",
      "39: 0.06\n"
     ]
    },
    {
     "name": "stderr",
     "output_type": "stream",
     "text": [
      "\r",
      "  8%|▊         | 33/426 [00:15<02:47,  2.35it/s]"
     ]
    },
    {
     "name": "stdout",
     "output_type": "stream",
     "text": [
      "label=40 conf=0.060786619782447815\n",
      "40: 0.06\n",
      "label=41 conf=0.060786809772253036\n",
      "41: 0.06\n",
      "label=22 conf=0.060786809772253036\n",
      "22: 0.06\n"
     ]
    },
    {
     "name": "stderr",
     "output_type": "stream",
     "text": [
      "\r",
      "  8%|▊         | 34/426 [00:15<02:36,  2.51it/s]"
     ]
    },
    {
     "name": "stdout",
     "output_type": "stream",
     "text": [
      "label=38 conf=0.060786809772253036\n",
      "38: 0.06\n",
      "label=41 conf=0.060786809772253036\n",
      "41: 0.06\n",
      "label=11 conf=0.060786809772253036\n",
      "11: 0.06\n"
     ]
    },
    {
     "name": "stderr",
     "output_type": "stream",
     "text": [
      "\r",
      "  8%|▊         | 35/426 [00:16<02:33,  2.55it/s]"
     ]
    },
    {
     "name": "stdout",
     "output_type": "stream",
     "text": [
      "label=39 conf=0.060786809772253036\n",
      "39: 0.06\n",
      "label=41 conf=0.060786809772253036\n",
      "41: 0.06\n",
      "label=41 conf=0.060786809772253036\n",
      "41: 0.06\n"
     ]
    },
    {
     "name": "stderr",
     "output_type": "stream",
     "text": [
      "\r",
      "  8%|▊         | 36/426 [00:16<02:28,  2.62it/s]"
     ]
    },
    {
     "name": "stdout",
     "output_type": "stream",
     "text": [
      "label=33 conf=0.05841200426220894\n",
      "33: 0.06\n",
      "label=39 conf=0.060777705162763596\n",
      "39: 0.06\n",
      "label=41 conf=0.060786809772253036\n",
      "41: 0.06\n"
     ]
    },
    {
     "name": "stderr",
     "output_type": "stream",
     "text": [
      "\r",
      "  9%|▊         | 37/426 [00:17<02:22,  2.73it/s]"
     ]
    },
    {
     "name": "stdout",
     "output_type": "stream",
     "text": [
      "label=33 conf=0.05841200426220894\n",
      "33: 0.06\n",
      "label=39 conf=0.060777705162763596\n",
      "39: 0.06\n",
      "label=41 conf=0.060786809772253036\n",
      "41: 0.06\n"
     ]
    },
    {
     "name": "stderr",
     "output_type": "stream",
     "text": [
      "\r",
      "  9%|▉         | 38/426 [00:17<02:26,  2.65it/s]"
     ]
    },
    {
     "name": "stdout",
     "output_type": "stream",
     "text": [
      "label=40 conf=0.06078680232167244\n",
      "40: 0.06\n",
      "label=41 conf=0.060786809772253036\n",
      "41: 0.06\n",
      "label=39 conf=0.060786809772253036\n",
      "39: 0.06\n"
     ]
    },
    {
     "name": "stderr",
     "output_type": "stream",
     "text": [
      "\r",
      "  9%|▉         | 39/426 [00:17<02:23,  2.70it/s]"
     ]
    },
    {
     "name": "stdout",
     "output_type": "stream",
     "text": [
      "label=33 conf=0.060786809772253036\n",
      "33: 0.06\n",
      "label=41 conf=0.060786809772253036\n",
      "41: 0.06\n",
      "label=41 conf=0.060786809772253036\n",
      "41: 0.06\n"
     ]
    },
    {
     "name": "stderr",
     "output_type": "stream",
     "text": [
      "\r",
      "  9%|▉         | 40/426 [00:18<02:20,  2.75it/s]"
     ]
    },
    {
     "name": "stdout",
     "output_type": "stream",
     "text": [
      "label=39 conf=0.060786809772253036\n",
      "39: 0.06\n",
      "label=41 conf=0.060786809772253036\n",
      "41: 0.06\n",
      "label=22 conf=0.060662273317575455\n",
      "22: 0.06\n"
     ]
    },
    {
     "name": "stderr",
     "output_type": "stream",
     "text": [
      "\r",
      " 10%|▉         | 41/426 [00:18<02:20,  2.74it/s]"
     ]
    },
    {
     "name": "stdout",
     "output_type": "stream",
     "text": [
      "label=41 conf=0.060786809772253036\n",
      "41: 0.06\n",
      "label=14 conf=0.04901239648461342\n",
      "14: 0.05\n",
      "label=42 conf=0.060786809772253036\n",
      "42: 0.06\n"
     ]
    },
    {
     "name": "stderr",
     "output_type": "stream",
     "text": [
      "\r",
      " 10%|▉         | 42/426 [00:18<02:25,  2.63it/s]"
     ]
    },
    {
     "name": "stdout",
     "output_type": "stream",
     "text": [
      "label=41 conf=0.060786809772253036\n",
      "41: 0.06\n",
      "label=42 conf=0.060786809772253036\n",
      "42: 0.06\n",
      "label=33 conf=0.060786809772253036\n",
      "33: 0.06\n"
     ]
    },
    {
     "name": "stderr",
     "output_type": "stream",
     "text": [
      "\r",
      " 10%|█         | 43/426 [00:19<02:30,  2.54it/s]"
     ]
    },
    {
     "name": "stdout",
     "output_type": "stream",
     "text": [
      "label=42 conf=0.060786809772253036\n",
      "42: 0.06\n",
      "label=17 conf=0.060786809772253036\n",
      "17: 0.06\n",
      "label=39 conf=0.060786809772253036\n",
      "39: 0.06\n"
     ]
    },
    {
     "name": "stderr",
     "output_type": "stream",
     "text": [
      "\r",
      " 10%|█         | 44/426 [00:19<02:32,  2.51it/s]"
     ]
    },
    {
     "name": "stdout",
     "output_type": "stream",
     "text": [
      "label=41 conf=0.060786809772253036\n",
      "41: 0.06\n",
      "label=42 conf=0.060786809772253036\n",
      "42: 0.06\n",
      "label=40 conf=0.060786809772253036\n",
      "40: 0.06\n"
     ]
    },
    {
     "name": "stderr",
     "output_type": "stream",
     "text": [
      "\r",
      " 11%|█         | 45/426 [00:20<02:27,  2.58it/s]"
     ]
    },
    {
     "name": "stdout",
     "output_type": "stream",
     "text": [
      "label=34 conf=0.060786809772253036\n",
      "34: 0.06\n",
      "label=41 conf=0.060786809772253036\n",
      "41: 0.06\n",
      "label=22 conf=0.060786809772253036\n",
      "22: 0.06\n"
     ]
    },
    {
     "name": "stderr",
     "output_type": "stream",
     "text": [
      "\r",
      " 11%|█         | 46/426 [00:20<02:32,  2.49it/s]"
     ]
    },
    {
     "name": "stdout",
     "output_type": "stream",
     "text": [
      "label=14 conf=0.0607854500412941\n",
      "14: 0.06\n",
      "label=33 conf=0.06074715778231621\n",
      "33: 0.06\n",
      "label=34 conf=0.060786809772253036\n",
      "34: 0.06\n"
     ]
    },
    {
     "name": "stderr",
     "output_type": "stream",
     "text": [
      "\r",
      " 11%|█         | 47/426 [00:21<02:35,  2.44it/s]"
     ]
    },
    {
     "name": "stdout",
     "output_type": "stream",
     "text": [
      "label=42 conf=0.060786809772253036\n",
      "42: 0.06\n",
      "label=17 conf=0.060786809772253036\n",
      "17: 0.06\n",
      "label=39 conf=0.060786809772253036\n",
      "39: 0.06\n"
     ]
    },
    {
     "name": "stderr",
     "output_type": "stream",
     "text": [
      "\r",
      " 11%|█▏        | 48/426 [00:21<02:31,  2.50it/s]"
     ]
    },
    {
     "name": "stdout",
     "output_type": "stream",
     "text": [
      "label=28 conf=0.060786809772253036\n",
      "28: 0.06\n",
      "label=39 conf=0.060786809772253036\n",
      "39: 0.06\n",
      "label=39 conf=0.060786809772253036\n",
      "39: 0.06\n"
     ]
    },
    {
     "name": "stderr",
     "output_type": "stream",
     "text": [
      "\r",
      " 12%|█▏        | 49/426 [00:21<02:41,  2.33it/s]"
     ]
    },
    {
     "name": "stdout",
     "output_type": "stream",
     "text": [
      "label=29 conf=0.060786809772253036\n",
      "29: 0.06\n",
      "label=41 conf=0.06075803562998772\n",
      "41: 0.06\n",
      "label=41 conf=0.06078679487109184\n",
      "41: 0.06\n"
     ]
    },
    {
     "name": "stderr",
     "output_type": "stream",
     "text": [
      "\r",
      " 12%|█▏        | 50/426 [00:22<02:49,  2.22it/s]"
     ]
    },
    {
     "name": "stdout",
     "output_type": "stream",
     "text": [
      "label=40 conf=0.060786809772253036\n",
      "40: 0.06\n",
      "label=39 conf=0.060786809772253036\n",
      "39: 0.06\n",
      "label=17 conf=0.060786809772253036\n",
      "17: 0.06\n"
     ]
    },
    {
     "name": "stderr",
     "output_type": "stream",
     "text": [
      "\r",
      " 12%|█▏        | 51/426 [00:22<03:05,  2.02it/s]"
     ]
    },
    {
     "name": "stdout",
     "output_type": "stream",
     "text": [
      "label=17 conf=0.06078421697020531\n",
      "17: 0.06\n",
      "label=22 conf=0.060786809772253036\n",
      "22: 0.06\n",
      "label=36 conf=0.060786809772253036\n",
      "36: 0.06\n"
     ]
    },
    {
     "name": "stderr",
     "output_type": "stream",
     "text": [
      "\r",
      " 12%|█▏        | 52/426 [00:23<03:04,  2.03it/s]"
     ]
    },
    {
     "name": "stdout",
     "output_type": "stream",
     "text": [
      "label=22 conf=0.06078658625483513\n",
      "22: 0.06\n",
      "label=17 conf=0.060786809772253036\n",
      "17: 0.06\n",
      "label=22 conf=0.060786809772253036\n",
      "22: 0.06\n"
     ]
    },
    {
     "name": "stderr",
     "output_type": "stream",
     "text": [
      "\r",
      " 12%|█▏        | 53/426 [00:24<03:08,  1.98it/s]"
     ]
    },
    {
     "name": "stdout",
     "output_type": "stream",
     "text": [
      "label=41 conf=0.060786809772253036\n",
      "41: 0.06\n",
      "label=22 conf=0.060786809772253036\n",
      "22: 0.06\n",
      "label=17 conf=0.060786809772253036\n",
      "17: 0.06\n"
     ]
    },
    {
     "name": "stderr",
     "output_type": "stream",
     "text": [
      "\r",
      " 13%|█▎        | 54/426 [00:24<03:05,  2.01it/s]"
     ]
    },
    {
     "name": "stdout",
     "output_type": "stream",
     "text": [
      "label=40 conf=0.060786809772253036\n",
      "40: 0.06\n",
      "label=33 conf=0.06035872921347618\n",
      "33: 0.06\n",
      "label=41 conf=0.060786809772253036\n",
      "41: 0.06\n"
     ]
    },
    {
     "name": "stderr",
     "output_type": "stream",
     "text": [
      "\r",
      " 13%|█▎        | 55/426 [00:25<03:15,  1.90it/s]"
     ]
    },
    {
     "name": "stdout",
     "output_type": "stream",
     "text": [
      "label=40 conf=0.060786809772253036\n",
      "40: 0.06\n",
      "label=41 conf=0.060786712914705276\n",
      "41: 0.06\n",
      "label=41 conf=0.06078680232167244\n",
      "41: 0.06\n"
     ]
    },
    {
     "name": "stderr",
     "output_type": "stream",
     "text": [
      "\r",
      " 13%|█▎        | 56/426 [00:25<03:15,  1.89it/s]"
     ]
    },
    {
     "name": "stdout",
     "output_type": "stream",
     "text": [
      "label=41 conf=0.060786809772253036\n",
      "41: 0.06\n",
      "label=17 conf=0.060735125094652176\n",
      "17: 0.06\n",
      "label=22 conf=0.0607851967215538\n",
      "22: 0.06\n"
     ]
    },
    {
     "name": "stderr",
     "output_type": "stream",
     "text": [
      "\r",
      " 13%|█▎        | 57/426 [00:26<03:18,  1.85it/s]"
     ]
    },
    {
     "name": "stdout",
     "output_type": "stream",
     "text": [
      "label=34 conf=0.060786809772253036\n",
      "34: 0.06\n",
      "label=17 conf=0.060786809772253036\n",
      "17: 0.06\n",
      "label=39 conf=0.060786809772253036\n",
      "39: 0.06\n"
     ]
    },
    {
     "name": "stderr",
     "output_type": "stream",
     "text": [
      "\r",
      " 14%|█▎        | 58/426 [00:26<03:14,  1.89it/s]"
     ]
    },
    {
     "name": "stdout",
     "output_type": "stream",
     "text": [
      "label=19 conf=0.06078209728002548\n",
      "19: 0.06\n",
      "label=41 conf=0.060786809772253036\n",
      "41: 0.06\n",
      "label=39 conf=0.060786809772253036\n",
      "39: 0.06\n"
     ]
    },
    {
     "name": "stderr",
     "output_type": "stream",
     "text": [
      "\r",
      " 14%|█▍        | 59/426 [00:27<03:17,  1.86it/s]"
     ]
    },
    {
     "name": "stdout",
     "output_type": "stream",
     "text": [
      "label=40 conf=0.060774147510528564\n",
      "40: 0.06\n",
      "label=42 conf=0.060786809772253036\n",
      "42: 0.06\n",
      "label=11 conf=0.060786809772253036\n",
      "11: 0.06\n"
     ]
    },
    {
     "name": "stderr",
     "output_type": "stream",
     "text": [
      "\r",
      " 14%|█▍        | 60/426 [00:27<03:14,  1.88it/s]"
     ]
    },
    {
     "name": "stdout",
     "output_type": "stream",
     "text": [
      "label=41 conf=0.060786809772253036\n",
      "41: 0.06\n",
      "label=39 conf=0.060786809772253036\n",
      "39: 0.06\n",
      "label=39 conf=0.060786809772253036\n",
      "39: 0.06\n"
     ]
    },
    {
     "name": "stderr",
     "output_type": "stream",
     "text": [
      "\r",
      " 14%|█▍        | 61/426 [00:28<03:10,  1.92it/s]"
     ]
    },
    {
     "name": "stdout",
     "output_type": "stream",
     "text": [
      "label=17 conf=0.060786809772253036\n",
      "17: 0.06\n",
      "label=17 conf=0.060786809772253036\n",
      "17: 0.06\n",
      "label=38 conf=0.060786809772253036\n",
      "38: 0.06\n"
     ]
    },
    {
     "name": "stderr",
     "output_type": "stream",
     "text": [
      "\r",
      " 15%|█▍        | 62/426 [00:28<03:07,  1.94it/s]"
     ]
    },
    {
     "name": "stdout",
     "output_type": "stream",
     "text": [
      "label=22 conf=0.060786809772253036\n",
      "22: 0.06\n",
      "label=29 conf=0.060786809772253036\n",
      "29: 0.06\n",
      "label=34 conf=0.06078679487109184\n",
      "34: 0.06\n"
     ]
    },
    {
     "name": "stderr",
     "output_type": "stream",
     "text": [
      "\r",
      " 15%|█▍        | 63/426 [00:29<03:07,  1.94it/s]"
     ]
    },
    {
     "name": "stdout",
     "output_type": "stream",
     "text": [
      "label=34 conf=0.060786809772253036\n",
      "34: 0.06\n",
      "label=22 conf=0.060786809772253036\n",
      "22: 0.06\n",
      "label=41 conf=0.060786809772253036\n",
      "41: 0.06\n"
     ]
    },
    {
     "name": "stderr",
     "output_type": "stream",
     "text": [
      "\r",
      " 15%|█▌        | 64/426 [00:29<03:10,  1.90it/s]"
     ]
    },
    {
     "name": "stdout",
     "output_type": "stream",
     "text": [
      "label=39 conf=0.06078663468360901\n",
      "39: 0.06\n",
      "label=40 conf=0.060786809772253036\n",
      "40: 0.06\n",
      "label=41 conf=0.060786809772253036\n",
      "41: 0.06\n"
     ]
    },
    {
     "name": "stderr",
     "output_type": "stream",
     "text": [
      "\r",
      " 15%|█▌        | 65/426 [00:30<03:13,  1.87it/s]"
     ]
    },
    {
     "name": "stdout",
     "output_type": "stream",
     "text": [
      "label=41 conf=0.05999896675348282\n",
      "41: 0.06\n",
      "label=28 conf=0.060786809772253036\n",
      "28: 0.06\n",
      "label=33 conf=0.060785964131355286\n",
      "33: 0.06\n"
     ]
    },
    {
     "name": "stderr",
     "output_type": "stream",
     "text": [
      "\r",
      " 15%|█▌        | 66/426 [00:31<03:24,  1.76it/s]"
     ]
    },
    {
     "name": "stdout",
     "output_type": "stream",
     "text": [
      "label=12 conf=0.060786809772253036\n",
      "12: 0.06\n",
      "label=28 conf=0.060786809772253036\n",
      "28: 0.06\n",
      "label=39 conf=0.060786809772253036\n",
      "39: 0.06\n"
     ]
    },
    {
     "name": "stderr",
     "output_type": "stream",
     "text": [
      "\r",
      " 16%|█▌        | 67/426 [00:31<03:16,  1.83it/s]"
     ]
    },
    {
     "name": "stdout",
     "output_type": "stream",
     "text": [
      "label=39 conf=0.060786809772253036\n",
      "39: 0.06\n",
      "label=41 conf=0.060786809772253036\n",
      "41: 0.06\n",
      "label=19 conf=0.060786809772253036\n",
      "19: 0.06\n"
     ]
    },
    {
     "name": "stderr",
     "output_type": "stream",
     "text": [
      "\r",
      " 16%|█▌        | 68/426 [00:32<03:11,  1.87it/s]"
     ]
    },
    {
     "name": "stdout",
     "output_type": "stream",
     "text": [
      "label=34 conf=0.047690775245428085\n",
      "34: 0.05\n",
      "label=17 conf=0.053595446050167084\n",
      "17: 0.05\n",
      "label=22 conf=0.060786809772253036\n",
      "22: 0.06\n"
     ]
    },
    {
     "name": "stderr",
     "output_type": "stream",
     "text": [
      "\r",
      " 16%|█▌        | 69/426 [00:32<03:09,  1.89it/s]"
     ]
    },
    {
     "name": "stdout",
     "output_type": "stream",
     "text": [
      "label=17 conf=0.060786809772253036\n",
      "17: 0.06\n",
      "label=41 conf=0.06078678369522095\n",
      "41: 0.06\n",
      "label=40 conf=0.060786809772253036\n",
      "40: 0.06\n"
     ]
    },
    {
     "name": "stderr",
     "output_type": "stream",
     "text": [
      "\r",
      " 16%|█▋        | 70/426 [00:33<03:10,  1.87it/s]"
     ]
    },
    {
     "name": "stdout",
     "output_type": "stream",
     "text": [
      "label=41 conf=0.060786809772253036\n",
      "41: 0.06\n",
      "label=41 conf=0.060786809772253036\n",
      "41: 0.06\n",
      "label=22 conf=0.060786809772253036\n",
      "22: 0.06\n"
     ]
    },
    {
     "name": "stderr",
     "output_type": "stream",
     "text": [
      "\r",
      " 17%|█▋        | 71/426 [00:33<03:05,  1.92it/s]"
     ]
    },
    {
     "name": "stdout",
     "output_type": "stream",
     "text": [
      "label=39 conf=0.060786809772253036\n",
      "39: 0.06\n",
      "label=40 conf=0.060786809772253036\n",
      "40: 0.06\n",
      "label=39 conf=0.060786809772253036\n",
      "39: 0.06\n"
     ]
    },
    {
     "name": "stderr",
     "output_type": "stream",
     "text": [
      "\r",
      " 17%|█▋        | 72/426 [00:34<03:08,  1.88it/s]"
     ]
    },
    {
     "name": "stdout",
     "output_type": "stream",
     "text": [
      "label=39 conf=0.060786809772253036\n",
      "39: 0.06\n",
      "label=34 conf=0.060786809772253036\n",
      "34: 0.06\n",
      "label=41 conf=0.060786809772253036\n",
      "41: 0.06\n"
     ]
    },
    {
     "name": "stderr",
     "output_type": "stream",
     "text": [
      "\r",
      " 17%|█▋        | 73/426 [00:34<03:08,  1.87it/s]"
     ]
    },
    {
     "name": "stdout",
     "output_type": "stream",
     "text": [
      "label=34 conf=0.060786809772253036\n",
      "34: 0.06\n",
      "label=33 conf=0.060786809772253036\n",
      "33: 0.06\n",
      "label=41 conf=0.060786809772253036\n",
      "41: 0.06\n"
     ]
    },
    {
     "name": "stderr",
     "output_type": "stream",
     "text": [
      "\r",
      " 17%|█▋        | 74/426 [00:35<03:05,  1.90it/s]"
     ]
    },
    {
     "name": "stdout",
     "output_type": "stream",
     "text": [
      "label=22 conf=0.060786809772253036\n",
      "22: 0.06\n",
      "label=41 conf=0.060786809772253036\n",
      "41: 0.06\n",
      "label=33 conf=0.060786809772253036\n",
      "33: 0.06\n"
     ]
    },
    {
     "name": "stderr",
     "output_type": "stream",
     "text": [
      "\r",
      " 18%|█▊        | 75/426 [00:35<03:13,  1.81it/s]"
     ]
    },
    {
     "name": "stdout",
     "output_type": "stream",
     "text": [
      "label=12 conf=0.060784321278333664\n",
      "12: 0.06\n",
      "label=41 conf=0.060786809772253036\n",
      "41: 0.06\n",
      "label=22 conf=0.060786809772253036\n",
      "22: 0.06\n"
     ]
    },
    {
     "name": "stderr",
     "output_type": "stream",
     "text": [
      "\r",
      " 18%|█▊        | 76/426 [00:36<03:31,  1.65it/s]"
     ]
    },
    {
     "name": "stdout",
     "output_type": "stream",
     "text": [
      "label=22 conf=0.060786809772253036\n",
      "22: 0.06\n",
      "label=41 conf=0.060786809772253036\n",
      "41: 0.06\n",
      "label=42 conf=0.060786809772253036\n",
      "42: 0.06\n"
     ]
    },
    {
     "name": "stderr",
     "output_type": "stream",
     "text": [
      "\r",
      " 18%|█▊        | 77/426 [00:37<03:30,  1.66it/s]"
     ]
    },
    {
     "name": "stdout",
     "output_type": "stream",
     "text": [
      "label=17 conf=0.060786809772253036\n",
      "17: 0.06\n",
      "label=34 conf=0.060786809772253036\n",
      "34: 0.06\n",
      "label=41 conf=0.050231195986270905\n",
      "41: 0.05\n"
     ]
    },
    {
     "name": "stderr",
     "output_type": "stream",
     "text": [
      "\r",
      " 18%|█▊        | 78/426 [00:37<03:40,  1.58it/s]"
     ]
    },
    {
     "name": "stdout",
     "output_type": "stream",
     "text": [
      "label=28 conf=0.060786809772253036\n",
      "28: 0.06\n",
      "label=36 conf=0.060786809772253036\n",
      "36: 0.06\n",
      "label=42 conf=0.060786809772253036\n",
      "42: 0.06\n"
     ]
    },
    {
     "name": "stderr",
     "output_type": "stream",
     "text": [
      "\r",
      " 19%|█▊        | 79/426 [00:38<03:29,  1.66it/s]"
     ]
    },
    {
     "name": "stdout",
     "output_type": "stream",
     "text": [
      "label=41 conf=0.060786809772253036\n",
      "41: 0.06\n",
      "label=34 conf=0.060526877641677856\n",
      "34: 0.06\n",
      "label=36 conf=0.060332536697387695\n",
      "36: 0.06\n"
     ]
    },
    {
     "name": "stderr",
     "output_type": "stream",
     "text": [
      "\r",
      " 19%|█▉        | 80/426 [00:38<03:20,  1.73it/s]"
     ]
    },
    {
     "name": "stdout",
     "output_type": "stream",
     "text": [
      "label=34 conf=0.060786809772253036\n",
      "34: 0.06\n",
      "label=36 conf=0.060786809772253036\n",
      "36: 0.06\n",
      "label=41 conf=0.060786210000514984\n",
      "41: 0.06\n"
     ]
    },
    {
     "name": "stderr",
     "output_type": "stream",
     "text": [
      "\r",
      " 19%|█▉        | 81/426 [00:39<03:18,  1.74it/s]"
     ]
    },
    {
     "name": "stdout",
     "output_type": "stream",
     "text": [
      "label=34 conf=0.060786809772253036\n",
      "34: 0.06\n",
      "label=22 conf=0.060786809772253036\n",
      "22: 0.06\n",
      "label=17 conf=0.060786809772253036\n",
      "17: 0.06\n"
     ]
    },
    {
     "name": "stderr",
     "output_type": "stream",
     "text": [
      "\r",
      " 19%|█▉        | 82/426 [00:39<03:07,  1.83it/s]"
     ]
    },
    {
     "name": "stdout",
     "output_type": "stream",
     "text": [
      "label=41 conf=0.060786809772253036\n",
      "41: 0.06\n",
      "label=17 conf=0.060786809772253036\n",
      "17: 0.06\n",
      "label=22 conf=0.060786809772253036\n",
      "22: 0.06\n"
     ]
    },
    {
     "name": "stderr",
     "output_type": "stream",
     "text": [
      "\r",
      " 19%|█▉        | 83/426 [00:40<03:12,  1.78it/s]"
     ]
    },
    {
     "name": "stdout",
     "output_type": "stream",
     "text": [
      "label=34 conf=0.060786809772253036\n",
      "34: 0.06\n",
      "label=22 conf=0.060786809772253036\n",
      "22: 0.06\n",
      "label=41 conf=0.060786809772253036\n",
      "41: 0.06\n"
     ]
    },
    {
     "name": "stderr",
     "output_type": "stream",
     "text": [
      "\r",
      " 20%|█▉        | 84/426 [00:41<03:12,  1.78it/s]"
     ]
    },
    {
     "name": "stdout",
     "output_type": "stream",
     "text": [
      "label=39 conf=0.060786809772253036\n",
      "39: 0.06\n",
      "label=39 conf=0.060786809772253036\n",
      "39: 0.06\n",
      "label=39 conf=0.060786809772253036\n",
      "39: 0.06\n"
     ]
    },
    {
     "name": "stderr",
     "output_type": "stream",
     "text": [
      "\r",
      " 20%|█▉        | 85/426 [00:41<03:18,  1.72it/s]"
     ]
    },
    {
     "name": "stdout",
     "output_type": "stream",
     "text": [
      "label=17 conf=0.06076373904943466\n",
      "17: 0.06\n",
      "label=22 conf=0.06055686995387077\n",
      "22: 0.06\n",
      "label=22 conf=0.0549158975481987\n",
      "22: 0.05\n"
     ]
    },
    {
     "name": "stderr",
     "output_type": "stream",
     "text": [
      "\r",
      " 20%|██        | 86/426 [00:42<03:07,  1.81it/s]"
     ]
    },
    {
     "name": "stdout",
     "output_type": "stream",
     "text": [
      "label=17 conf=0.060786809772253036\n",
      "17: 0.06\n",
      "label=39 conf=0.060786809772253036\n",
      "39: 0.06\n",
      "label=36 conf=0.060786809772253036\n",
      "36: 0.06\n"
     ]
    },
    {
     "name": "stderr",
     "output_type": "stream",
     "text": [
      "\r",
      " 20%|██        | 87/426 [00:42<03:04,  1.84it/s]"
     ]
    },
    {
     "name": "stdout",
     "output_type": "stream",
     "text": [
      "label=22 conf=0.060786809772253036\n",
      "22: 0.06\n",
      "label=42 conf=0.060612715780735016\n",
      "42: 0.06\n",
      "label=39 conf=0.058523744344711304\n",
      "39: 0.06\n"
     ]
    },
    {
     "name": "stderr",
     "output_type": "stream",
     "text": [
      "\r",
      " 21%|██        | 88/426 [00:43<03:00,  1.87it/s]"
     ]
    },
    {
     "name": "stdout",
     "output_type": "stream",
     "text": [
      "label=40 conf=0.060786809772253036\n",
      "40: 0.06\n",
      "label=0 conf=0.060786809772253036\n",
      "0: 0.06\n",
      "label=41 conf=0.060786809772253036\n",
      "41: 0.06\n"
     ]
    },
    {
     "name": "stderr",
     "output_type": "stream",
     "text": [
      "\r",
      " 21%|██        | 89/426 [00:43<02:56,  1.91it/s]"
     ]
    },
    {
     "name": "stdout",
     "output_type": "stream",
     "text": [
      "label=39 conf=0.060786809772253036\n",
      "39: 0.06\n",
      "label=38 conf=0.060786809772253036\n",
      "38: 0.06\n",
      "label=40 conf=0.060786809772253036\n",
      "40: 0.06\n"
     ]
    },
    {
     "name": "stderr",
     "output_type": "stream",
     "text": [
      "\r",
      " 21%|██        | 90/426 [00:44<02:45,  2.04it/s]"
     ]
    },
    {
     "name": "stdout",
     "output_type": "stream",
     "text": [
      "label=41 conf=0.06067764759063721\n",
      "41: 0.06\n",
      "label=40 conf=0.060786809772253036\n",
      "40: 0.06\n",
      "label=42 conf=0.060786809772253036\n",
      "42: 0.06\n"
     ]
    },
    {
     "name": "stderr",
     "output_type": "stream",
     "text": [
      "\r",
      " 21%|██▏       | 91/426 [00:44<03:07,  1.78it/s]"
     ]
    },
    {
     "name": "stdout",
     "output_type": "stream",
     "text": [
      "label=34 conf=0.060786809772253036\n",
      "34: 0.06\n",
      "label=36 conf=0.060786809772253036\n",
      "36: 0.06\n",
      "label=40 conf=0.060786809772253036\n",
      "40: 0.06\n"
     ]
    },
    {
     "name": "stderr",
     "output_type": "stream",
     "text": [
      "\r",
      " 22%|██▏       | 92/426 [00:45<02:59,  1.86it/s]"
     ]
    },
    {
     "name": "stdout",
     "output_type": "stream",
     "text": [
      "label=40 conf=0.060786809772253036\n",
      "40: 0.06\n",
      "label=39 conf=0.060786809772253036\n",
      "39: 0.06\n",
      "label=41 conf=0.060786809772253036\n",
      "41: 0.06\n"
     ]
    },
    {
     "name": "stderr",
     "output_type": "stream",
     "text": [
      "\r",
      " 22%|██▏       | 93/426 [00:45<03:01,  1.84it/s]"
     ]
    },
    {
     "name": "stdout",
     "output_type": "stream",
     "text": [
      "label=14 conf=0.060786809772253036\n",
      "14: 0.06\n",
      "label=22 conf=0.060786571353673935\n",
      "22: 0.06\n",
      "label=40 conf=0.060786809772253036\n",
      "40: 0.06\n"
     ]
    },
    {
     "name": "stderr",
     "output_type": "stream",
     "text": [
      "\r",
      " 22%|██▏       | 94/426 [00:46<02:55,  1.89it/s]"
     ]
    },
    {
     "name": "stdout",
     "output_type": "stream",
     "text": [
      "label=33 conf=0.051752302795648575\n",
      "33: 0.05\n",
      "label=38 conf=0.060786809772253036\n",
      "38: 0.06\n",
      "label=11 conf=0.0607832670211792\n",
      "11: 0.06\n"
     ]
    },
    {
     "name": "stderr",
     "output_type": "stream",
     "text": [
      "\r",
      " 22%|██▏       | 95/426 [00:47<03:03,  1.80it/s]"
     ]
    },
    {
     "name": "stdout",
     "output_type": "stream",
     "text": [
      "label=41 conf=0.060786809772253036\n",
      "41: 0.06\n",
      "label=39 conf=0.060786809772253036\n",
      "39: 0.06\n",
      "label=42 conf=0.060786809772253036\n",
      "42: 0.06\n"
     ]
    },
    {
     "name": "stderr",
     "output_type": "stream",
     "text": [
      "\r",
      " 23%|██▎       | 96/426 [00:47<02:57,  1.86it/s]"
     ]
    },
    {
     "name": "stdout",
     "output_type": "stream",
     "text": [
      "label=39 conf=0.060786809772253036\n",
      "39: 0.06\n",
      "label=41 conf=0.060786809772253036\n",
      "41: 0.06\n",
      "label=41 conf=0.060786809772253036\n",
      "41: 0.06\n"
     ]
    },
    {
     "name": "stderr",
     "output_type": "stream",
     "text": [
      "\r",
      " 23%|██▎       | 97/426 [00:48<02:58,  1.85it/s]"
     ]
    },
    {
     "name": "stdout",
     "output_type": "stream",
     "text": [
      "label=34 conf=0.060623735189437866\n",
      "34: 0.06\n",
      "label=39 conf=0.060786809772253036\n",
      "39: 0.06\n",
      "label=41 conf=0.060786809772253036\n",
      "41: 0.06\n"
     ]
    },
    {
     "name": "stderr",
     "output_type": "stream",
     "text": [
      "\r",
      " 23%|██▎       | 98/426 [00:48<02:49,  1.94it/s]"
     ]
    },
    {
     "name": "stdout",
     "output_type": "stream",
     "text": [
      "label=41 conf=0.060786809772253036\n",
      "41: 0.06\n",
      "label=40 conf=0.060786809772253036\n",
      "40: 0.06\n",
      "label=17 conf=0.060786809772253036\n",
      "17: 0.06\n"
     ]
    },
    {
     "name": "stderr",
     "output_type": "stream",
     "text": [
      "\r",
      " 23%|██▎       | 99/426 [00:49<03:17,  1.66it/s]"
     ]
    },
    {
     "name": "stdout",
     "output_type": "stream",
     "text": [
      "label=41 conf=0.060786809772253036\n",
      "41: 0.06\n",
      "label=38 conf=0.06078679487109184\n",
      "38: 0.06\n",
      "label=41 conf=0.060786809772253036\n",
      "41: 0.06\n"
     ]
    },
    {
     "name": "stderr",
     "output_type": "stream",
     "text": [
      "\r",
      " 23%|██▎       | 100/426 [00:49<03:09,  1.72it/s]"
     ]
    },
    {
     "name": "stdout",
     "output_type": "stream",
     "text": [
      "label=41 conf=0.060786809772253036\n",
      "41: 0.06\n",
      "label=39 conf=0.060786809772253036\n",
      "39: 0.06\n",
      "label=41 conf=0.06078679487109184\n",
      "41: 0.06\n"
     ]
    },
    {
     "name": "stderr",
     "output_type": "stream",
     "text": [
      "\r",
      " 24%|██▎       | 101/426 [00:50<02:55,  1.85it/s]"
     ]
    },
    {
     "name": "stdout",
     "output_type": "stream",
     "text": [
      "label=28 conf=0.060786809772253036\n",
      "28: 0.06\n",
      "label=41 conf=0.060786809772253036\n",
      "41: 0.06\n",
      "label=39 conf=0.060786809772253036\n",
      "39: 0.06\n"
     ]
    },
    {
     "name": "stderr",
     "output_type": "stream",
     "text": [
      "\r",
      " 24%|██▍       | 102/426 [00:50<02:43,  1.98it/s]"
     ]
    },
    {
     "name": "stdout",
     "output_type": "stream",
     "text": [
      "label=17 conf=0.060786809772253036\n",
      "17: 0.06\n",
      "label=22 conf=0.05660015717148781\n",
      "22: 0.06\n",
      "label=39 conf=0.060786809772253036\n",
      "39: 0.06\n"
     ]
    },
    {
     "name": "stderr",
     "output_type": "stream",
     "text": [
      "\r",
      " 24%|██▍       | 103/426 [00:51<02:48,  1.92it/s]"
     ]
    },
    {
     "name": "stdout",
     "output_type": "stream",
     "text": [
      "label=28 conf=0.060786809772253036\n",
      "28: 0.06\n",
      "label=38 conf=0.060786809772253036\n",
      "38: 0.06\n",
      "label=41 conf=0.060786809772253036\n",
      "41: 0.06\n"
     ]
    },
    {
     "name": "stderr",
     "output_type": "stream",
     "text": [
      "\r",
      " 24%|██▍       | 104/426 [00:51<02:39,  2.02it/s]"
     ]
    },
    {
     "name": "stdout",
     "output_type": "stream",
     "text": [
      "label=23 conf=0.060786809772253036\n",
      "23: 0.06\n",
      "label=39 conf=0.060786809772253036\n",
      "39: 0.06\n",
      "label=33 conf=0.060786809772253036\n",
      "33: 0.06\n"
     ]
    },
    {
     "name": "stderr",
     "output_type": "stream",
     "text": [
      "\r",
      " 25%|██▍       | 105/426 [00:52<02:43,  1.97it/s]"
     ]
    },
    {
     "name": "stdout",
     "output_type": "stream",
     "text": [
      "label=23 conf=0.060786809772253036\n",
      "23: 0.06\n",
      "label=39 conf=0.060786809772253036\n",
      "39: 0.06\n",
      "label=33 conf=0.060786809772253036\n",
      "33: 0.06\n"
     ]
    },
    {
     "name": "stderr",
     "output_type": "stream",
     "text": [
      "\r",
      " 25%|██▍       | 106/426 [00:52<02:38,  2.01it/s]"
     ]
    },
    {
     "name": "stdout",
     "output_type": "stream",
     "text": [
      "label=33 conf=0.045253120362758636\n",
      "33: 0.05\n",
      "label=11 conf=0.060786809772253036\n",
      "11: 0.06\n",
      "label=39 conf=0.060786809772253036\n",
      "39: 0.06\n"
     ]
    },
    {
     "name": "stderr",
     "output_type": "stream",
     "text": [
      "\r",
      " 25%|██▌       | 107/426 [00:53<02:37,  2.02it/s]"
     ]
    },
    {
     "name": "stdout",
     "output_type": "stream",
     "text": [
      "label=41 conf=0.06078532338142395\n",
      "41: 0.06\n",
      "label=41 conf=0.060786809772253036\n",
      "41: 0.06\n",
      "label=22 conf=0.060786809772253036\n",
      "22: 0.06\n"
     ]
    },
    {
     "name": "stderr",
     "output_type": "stream",
     "text": [
      "\r",
      " 25%|██▌       | 108/426 [00:53<02:37,  2.02it/s]"
     ]
    },
    {
     "name": "stdout",
     "output_type": "stream",
     "text": [
      "label=33 conf=0.060786809772253036\n",
      "33: 0.06\n",
      "label=42 conf=0.06077761575579643\n",
      "42: 0.06\n",
      "label=38 conf=0.060786809772253036\n",
      "38: 0.06\n"
     ]
    },
    {
     "name": "stderr",
     "output_type": "stream",
     "text": [
      "\r",
      " 26%|██▌       | 109/426 [00:54<02:43,  1.94it/s]"
     ]
    },
    {
     "name": "stdout",
     "output_type": "stream",
     "text": [
      "label=41 conf=0.060786809772253036\n",
      "41: 0.06\n",
      "label=41 conf=0.060786809772253036\n",
      "41: 0.06\n",
      "label=41 conf=0.060786809772253036\n",
      "41: 0.06\n"
     ]
    },
    {
     "name": "stderr",
     "output_type": "stream",
     "text": [
      "\r",
      " 26%|██▌       | 110/426 [00:54<02:43,  1.94it/s]"
     ]
    },
    {
     "name": "stdout",
     "output_type": "stream",
     "text": [
      "label=39 conf=0.060786809772253036\n",
      "39: 0.06\n",
      "label=39 conf=0.060786809772253036\n",
      "39: 0.06\n",
      "label=39 conf=0.060786809772253036\n",
      "39: 0.06\n"
     ]
    },
    {
     "name": "stderr",
     "output_type": "stream",
     "text": [
      "\r",
      " 26%|██▌       | 111/426 [00:55<02:49,  1.86it/s]"
     ]
    },
    {
     "name": "stdout",
     "output_type": "stream",
     "text": [
      "label=29 conf=0.060786809772253036\n",
      "29: 0.06\n",
      "label=39 conf=0.060786809772253036\n",
      "39: 0.06\n",
      "label=42 conf=0.060786809772253036\n",
      "42: 0.06\n"
     ]
    },
    {
     "name": "stderr",
     "output_type": "stream",
     "text": [
      "\r",
      " 26%|██▋       | 112/426 [00:55<02:49,  1.86it/s]"
     ]
    },
    {
     "name": "stdout",
     "output_type": "stream",
     "text": [
      "label=33 conf=0.06056465581059456\n",
      "33: 0.06\n",
      "label=41 conf=0.060786809772253036\n",
      "41: 0.06\n",
      "label=41 conf=0.060786809772253036\n",
      "41: 0.06\n"
     ]
    },
    {
     "name": "stderr",
     "output_type": "stream",
     "text": [
      "\r",
      " 27%|██▋       | 113/426 [00:56<02:45,  1.89it/s]"
     ]
    },
    {
     "name": "stdout",
     "output_type": "stream",
     "text": [
      "label=11 conf=0.06063515692949295\n",
      "11: 0.06\n",
      "label=41 conf=0.060786809772253036\n",
      "41: 0.06\n",
      "label=38 conf=0.060786809772253036\n",
      "38: 0.06\n"
     ]
    },
    {
     "name": "stderr",
     "output_type": "stream",
     "text": [
      "\r",
      " 27%|██▋       | 114/426 [00:56<02:39,  1.96it/s]"
     ]
    },
    {
     "name": "stdout",
     "output_type": "stream",
     "text": [
      "label=39 conf=0.05764179676771164\n",
      "39: 0.06\n",
      "label=22 conf=0.060786809772253036\n",
      "22: 0.06\n",
      "label=39 conf=0.060786809772253036\n",
      "39: 0.06\n"
     ]
    },
    {
     "name": "stderr",
     "output_type": "stream",
     "text": [
      "\r",
      " 27%|██▋       | 115/426 [00:57<02:39,  1.95it/s]"
     ]
    },
    {
     "name": "stdout",
     "output_type": "stream",
     "text": [
      "label=33 conf=0.06078679487109184\n",
      "33: 0.06\n",
      "label=39 conf=0.060786809772253036\n",
      "39: 0.06\n",
      "label=17 conf=0.060786809772253036\n",
      "17: 0.06\n"
     ]
    },
    {
     "name": "stderr",
     "output_type": "stream",
     "text": [
      "\r",
      " 27%|██▋       | 116/426 [00:57<02:34,  2.01it/s]"
     ]
    },
    {
     "name": "stdout",
     "output_type": "stream",
     "text": [
      "label=22 conf=0.060786809772253036\n",
      "22: 0.06\n",
      "label=39 conf=0.060786809772253036\n",
      "39: 0.06\n",
      "label=20 conf=0.060786809772253036\n",
      "20: 0.06\n"
     ]
    },
    {
     "name": "stderr",
     "output_type": "stream",
     "text": [
      "\r",
      " 27%|██▋       | 117/426 [00:58<02:34,  1.99it/s]"
     ]
    },
    {
     "name": "stdout",
     "output_type": "stream",
     "text": [
      "label=39 conf=0.060786809772253036\n",
      "39: 0.06\n",
      "label=41 conf=0.060786809772253036\n",
      "41: 0.06\n",
      "label=38 conf=0.060786809772253036\n",
      "38: 0.06\n"
     ]
    },
    {
     "name": "stderr",
     "output_type": "stream",
     "text": [
      "\r",
      " 28%|██▊       | 118/426 [00:58<02:37,  1.95it/s]"
     ]
    },
    {
     "name": "stdout",
     "output_type": "stream",
     "text": [
      "label=28 conf=0.060786809772253036\n",
      "28: 0.06\n",
      "label=22 conf=0.060786809772253036\n",
      "22: 0.06\n",
      "label=22 conf=0.06078680232167244\n",
      "22: 0.06\n"
     ]
    },
    {
     "name": "stderr",
     "output_type": "stream",
     "text": [
      "\r",
      " 28%|██▊       | 119/426 [00:59<02:39,  1.93it/s]"
     ]
    },
    {
     "name": "stdout",
     "output_type": "stream",
     "text": [
      "label=39 conf=0.06078650802373886\n",
      "39: 0.06\n",
      "label=41 conf=0.060786809772253036\n",
      "41: 0.06\n",
      "label=38 conf=0.060786809772253036\n",
      "38: 0.06\n"
     ]
    },
    {
     "name": "stderr",
     "output_type": "stream",
     "text": [
      "\r",
      " 28%|██▊       | 120/426 [00:59<02:35,  1.96it/s]"
     ]
    },
    {
     "name": "stdout",
     "output_type": "stream",
     "text": [
      "label=39 conf=0.060786809772253036\n",
      "39: 0.06\n",
      "label=22 conf=0.060786809772253036\n",
      "22: 0.06\n",
      "label=26 conf=0.060786809772253036\n",
      "26: 0.06\n"
     ]
    },
    {
     "name": "stderr",
     "output_type": "stream",
     "text": [
      "\r",
      " 28%|██▊       | 121/426 [01:00<02:27,  2.06it/s]"
     ]
    },
    {
     "name": "stdout",
     "output_type": "stream",
     "text": [
      "label=39 conf=0.060786809772253036\n",
      "39: 0.06\n",
      "label=41 conf=0.060786809772253036\n",
      "41: 0.06\n",
      "label=39 conf=0.060786809772253036\n",
      "39: 0.06\n"
     ]
    },
    {
     "name": "stderr",
     "output_type": "stream",
     "text": [
      "\r",
      " 29%|██▊       | 122/426 [01:00<02:25,  2.09it/s]"
     ]
    },
    {
     "name": "stdout",
     "output_type": "stream",
     "text": [
      "label=39 conf=0.060786809772253036\n",
      "39: 0.06\n",
      "label=17 conf=0.060786809772253036\n",
      "17: 0.06\n",
      "label=11 conf=0.060786809772253036\n",
      "11: 0.06\n"
     ]
    },
    {
     "name": "stderr",
     "output_type": "stream",
     "text": [
      "\r",
      " 29%|██▉       | 123/426 [01:01<02:25,  2.08it/s]"
     ]
    },
    {
     "name": "stdout",
     "output_type": "stream",
     "text": [
      "label=23 conf=0.060786809772253036\n",
      "23: 0.06\n",
      "label=33 conf=0.060786809772253036\n",
      "33: 0.06\n",
      "label=22 conf=0.060786809772253036\n",
      "22: 0.06\n"
     ]
    },
    {
     "name": "stderr",
     "output_type": "stream",
     "text": [
      "\r",
      " 29%|██▉       | 124/426 [01:01<02:21,  2.13it/s]"
     ]
    },
    {
     "name": "stdout",
     "output_type": "stream",
     "text": [
      "label=41 conf=0.060786809772253036\n",
      "41: 0.06\n",
      "label=11 conf=0.060786809772253036\n",
      "11: 0.06\n",
      "label=21 conf=0.060786809772253036\n",
      "21: 0.06\n"
     ]
    },
    {
     "name": "stderr",
     "output_type": "stream",
     "text": [
      "\r",
      " 29%|██▉       | 125/426 [01:02<02:17,  2.18it/s]"
     ]
    },
    {
     "name": "stdout",
     "output_type": "stream",
     "text": [
      "label=22 conf=0.060786809772253036\n",
      "22: 0.06\n",
      "label=22 conf=0.060786809772253036\n",
      "22: 0.06\n",
      "label=40 conf=0.060786809772253036\n",
      "40: 0.06\n"
     ]
    },
    {
     "name": "stderr",
     "output_type": "stream",
     "text": [
      "\r",
      " 30%|██▉       | 126/426 [01:02<02:12,  2.26it/s]"
     ]
    },
    {
     "name": "stdout",
     "output_type": "stream",
     "text": [
      "label=40 conf=0.060694485902786255\n",
      "40: 0.06\n",
      "label=41 conf=0.060786809772253036\n",
      "41: 0.06\n",
      "label=22 conf=0.05838880315423012\n",
      "22: 0.06\n"
     ]
    },
    {
     "name": "stderr",
     "output_type": "stream",
     "text": [
      "\r",
      " 30%|██▉       | 127/426 [01:03<02:13,  2.24it/s]"
     ]
    },
    {
     "name": "stdout",
     "output_type": "stream",
     "text": [
      "label=28 conf=0.060786809772253036\n",
      "28: 0.06\n",
      "label=33 conf=0.060786809772253036\n",
      "33: 0.06\n",
      "label=22 conf=0.060786809772253036\n",
      "22: 0.06\n"
     ]
    },
    {
     "name": "stderr",
     "output_type": "stream",
     "text": [
      "\r",
      " 30%|███       | 128/426 [01:03<02:09,  2.30it/s]"
     ]
    },
    {
     "name": "stdout",
     "output_type": "stream",
     "text": [
      "label=41 conf=0.06078677624464035\n",
      "41: 0.06\n",
      "label=41 conf=0.06056419387459755\n",
      "41: 0.06\n",
      "label=22 conf=0.060786809772253036\n",
      "22: 0.06\n"
     ]
    },
    {
     "name": "stderr",
     "output_type": "stream",
     "text": [
      "\r",
      " 30%|███       | 129/426 [01:03<02:08,  2.31it/s]"
     ]
    },
    {
     "name": "stdout",
     "output_type": "stream",
     "text": [
      "label=39 conf=0.060786809772253036\n",
      "39: 0.06\n",
      "label=41 conf=0.060786809772253036\n",
      "41: 0.06\n",
      "label=41 conf=0.060786787420511246\n",
      "41: 0.06\n"
     ]
    },
    {
     "name": "stderr",
     "output_type": "stream",
     "text": [
      "\r",
      " 31%|███       | 130/426 [01:04<02:07,  2.33it/s]"
     ]
    },
    {
     "name": "stdout",
     "output_type": "stream",
     "text": [
      "label=11 conf=0.060786809772253036\n",
      "11: 0.06\n",
      "label=40 conf=0.060786809772253036\n",
      "40: 0.06\n",
      "label=42 conf=0.060786809772253036\n",
      "42: 0.06\n"
     ]
    },
    {
     "name": "stderr",
     "output_type": "stream",
     "text": [
      "\r",
      " 31%|███       | 131/426 [01:04<02:04,  2.36it/s]"
     ]
    },
    {
     "name": "stdout",
     "output_type": "stream",
     "text": [
      "label=21 conf=0.060720667243003845\n",
      "21: 0.06\n",
      "label=40 conf=0.060786809772253036\n",
      "40: 0.06\n",
      "label=39 conf=0.060786809772253036\n",
      "39: 0.06\n"
     ]
    },
    {
     "name": "stderr",
     "output_type": "stream",
     "text": [
      "\r",
      " 31%|███       | 132/426 [01:05<02:07,  2.31it/s]"
     ]
    },
    {
     "name": "stdout",
     "output_type": "stream",
     "text": [
      "label=41 conf=0.060786809772253036\n",
      "41: 0.06\n",
      "label=40 conf=0.060786809772253036\n",
      "40: 0.06\n",
      "label=40 conf=0.060786809772253036\n",
      "40: 0.06\n"
     ]
    },
    {
     "name": "stderr",
     "output_type": "stream",
     "text": [
      "\r",
      " 31%|███       | 133/426 [01:05<02:01,  2.42it/s]"
     ]
    },
    {
     "name": "stdout",
     "output_type": "stream",
     "text": [
      "label=40 conf=0.060786809772253036\n",
      "40: 0.06\n",
      "label=11 conf=0.060786809772253036\n",
      "11: 0.06\n",
      "label=11 conf=0.0560079924762249\n",
      "11: 0.06\n"
     ]
    },
    {
     "name": "stderr",
     "output_type": "stream",
     "text": [
      "\r",
      " 31%|███▏      | 134/426 [01:06<02:03,  2.36it/s]"
     ]
    },
    {
     "name": "stdout",
     "output_type": "stream",
     "text": [
      "label=12 conf=0.06078679487109184\n",
      "12: 0.06\n",
      "label=41 conf=0.060786809772253036\n",
      "41: 0.06\n",
      "label=40 conf=0.060786809772253036\n",
      "40: 0.06\n"
     ]
    },
    {
     "name": "stderr",
     "output_type": "stream",
     "text": [
      "\r",
      " 32%|███▏      | 135/426 [01:06<02:07,  2.29it/s]"
     ]
    },
    {
     "name": "stdout",
     "output_type": "stream",
     "text": [
      "label=11 conf=0.060786809772253036\n",
      "11: 0.06\n",
      "label=40 conf=0.060786809772253036\n",
      "40: 0.06\n",
      "label=42 conf=0.060786809772253036\n",
      "42: 0.06\n"
     ]
    },
    {
     "name": "stderr",
     "output_type": "stream",
     "text": [
      "\r",
      " 32%|███▏      | 136/426 [01:06<02:01,  2.39it/s]"
     ]
    },
    {
     "name": "stdout",
     "output_type": "stream",
     "text": [
      "label=22 conf=0.060786809772253036\n",
      "22: 0.06\n",
      "label=17 conf=0.060786809772253036\n",
      "17: 0.06\n",
      "label=39 conf=0.060786809772253036\n",
      "39: 0.06\n"
     ]
    },
    {
     "name": "stderr",
     "output_type": "stream",
     "text": [
      "\r",
      " 32%|███▏      | 137/426 [01:07<02:02,  2.37it/s]"
     ]
    },
    {
     "name": "stdout",
     "output_type": "stream",
     "text": [
      "label=41 conf=0.060786809772253036\n",
      "41: 0.06\n",
      "label=40 conf=0.060786809772253036\n",
      "40: 0.06\n",
      "label=39 conf=0.06026625633239746\n",
      "39: 0.06\n"
     ]
    },
    {
     "name": "stderr",
     "output_type": "stream",
     "text": [
      "\r",
      " 32%|███▏      | 138/426 [01:07<01:59,  2.40it/s]"
     ]
    },
    {
     "name": "stdout",
     "output_type": "stream",
     "text": [
      "label=28 conf=0.060786809772253036\n",
      "28: 0.06\n",
      "label=41 conf=0.060786809772253036\n",
      "41: 0.06\n",
      "label=29 conf=0.060786809772253036\n",
      "29: 0.06\n"
     ]
    },
    {
     "name": "stderr",
     "output_type": "stream",
     "text": [
      "\r",
      " 33%|███▎      | 139/426 [01:08<01:57,  2.44it/s]"
     ]
    },
    {
     "name": "stdout",
     "output_type": "stream",
     "text": [
      "label=40 conf=0.06077955290675163\n",
      "40: 0.06\n",
      "label=41 conf=0.060786809772253036\n",
      "41: 0.06\n",
      "label=41 conf=0.060786809772253036\n",
      "41: 0.06\n"
     ]
    },
    {
     "name": "stderr",
     "output_type": "stream",
     "text": [
      "\r",
      " 33%|███▎      | 140/426 [01:08<01:57,  2.43it/s]"
     ]
    },
    {
     "name": "stdout",
     "output_type": "stream",
     "text": [
      "label=11 conf=0.060786809772253036\n",
      "11: 0.06\n",
      "label=39 conf=0.060786809772253036\n",
      "39: 0.06\n",
      "label=17 conf=0.06078680232167244\n",
      "17: 0.06\n"
     ]
    },
    {
     "name": "stderr",
     "output_type": "stream",
     "text": [
      "\r",
      " 33%|███▎      | 141/426 [01:08<01:56,  2.44it/s]"
     ]
    },
    {
     "name": "stdout",
     "output_type": "stream",
     "text": [
      "label=40 conf=0.060786809772253036\n",
      "40: 0.06\n",
      "label=22 conf=0.060786809772253036\n",
      "22: 0.06\n",
      "label=40 conf=0.060786809772253036\n",
      "40: 0.06\n"
     ]
    },
    {
     "name": "stderr",
     "output_type": "stream",
     "text": [
      "\r",
      " 33%|███▎      | 142/426 [01:09<01:54,  2.48it/s]"
     ]
    },
    {
     "name": "stdout",
     "output_type": "stream",
     "text": [
      "label=17 conf=0.060786809772253036\n",
      "17: 0.06\n",
      "label=41 conf=0.060786809772253036\n",
      "41: 0.06\n",
      "label=40 conf=0.060786809772253036\n",
      "40: 0.06\n"
     ]
    },
    {
     "name": "stderr",
     "output_type": "stream",
     "text": [
      "\r",
      " 34%|███▎      | 143/426 [01:09<01:52,  2.52it/s]"
     ]
    },
    {
     "name": "stdout",
     "output_type": "stream",
     "text": [
      "label=40 conf=0.060786809772253036\n",
      "40: 0.06\n",
      "label=41 conf=0.060786809772253036\n",
      "41: 0.06\n",
      "label=17 conf=0.0606573112308979\n",
      "17: 0.06\n"
     ]
    },
    {
     "name": "stderr",
     "output_type": "stream",
     "text": [
      "\r",
      " 34%|███▍      | 144/426 [01:10<01:48,  2.59it/s]"
     ]
    },
    {
     "name": "stdout",
     "output_type": "stream",
     "text": [
      "label=41 conf=0.060786809772253036\n",
      "41: 0.06\n",
      "label=12 conf=0.060786809772253036\n",
      "12: 0.06\n",
      "label=40 conf=0.060786809772253036\n",
      "40: 0.06\n"
     ]
    },
    {
     "name": "stderr",
     "output_type": "stream",
     "text": [
      "\r",
      " 34%|███▍      | 145/426 [01:10<01:52,  2.50it/s]"
     ]
    },
    {
     "name": "stdout",
     "output_type": "stream",
     "text": [
      "label=11 conf=0.060786809772253036\n",
      "11: 0.06\n",
      "label=28 conf=0.045804861932992935\n",
      "28: 0.05\n",
      "label=41 conf=0.060786809772253036\n",
      "41: 0.06\n"
     ]
    },
    {
     "name": "stderr",
     "output_type": "stream",
     "text": [
      "\r",
      " 34%|███▍      | 146/426 [01:10<01:51,  2.50it/s]"
     ]
    },
    {
     "name": "stdout",
     "output_type": "stream",
     "text": [
      "label=12 conf=0.060786809772253036\n",
      "12: 0.06\n",
      "label=39 conf=0.060786809772253036\n",
      "39: 0.06\n",
      "label=40 conf=0.060786809772253036\n",
      "40: 0.06\n"
     ]
    },
    {
     "name": "stderr",
     "output_type": "stream",
     "text": [
      "\r",
      " 35%|███▍      | 147/426 [01:11<01:46,  2.62it/s]"
     ]
    },
    {
     "name": "stdout",
     "output_type": "stream",
     "text": [
      "label=21 conf=0.06078542023897171\n",
      "21: 0.06\n",
      "label=40 conf=0.060786809772253036\n",
      "40: 0.06\n",
      "label=39 conf=0.060786809772253036\n",
      "39: 0.06\n"
     ]
    },
    {
     "name": "stderr",
     "output_type": "stream",
     "text": [
      "\r",
      " 35%|███▍      | 148/426 [01:11<01:49,  2.53it/s]"
     ]
    },
    {
     "name": "stdout",
     "output_type": "stream",
     "text": [
      "label=41 conf=0.060786809772253036\n",
      "41: 0.06\n",
      "label=41 conf=0.06078679487109184\n",
      "41: 0.06\n",
      "label=29 conf=0.060786809772253036\n",
      "29: 0.06\n"
     ]
    },
    {
     "name": "stderr",
     "output_type": "stream",
     "text": [
      "\r",
      " 35%|███▍      | 149/426 [01:12<01:49,  2.53it/s]"
     ]
    },
    {
     "name": "stdout",
     "output_type": "stream",
     "text": [
      "label=40 conf=0.060786809772253036\n",
      "40: 0.06\n",
      "label=42 conf=0.060786809772253036\n",
      "42: 0.06\n",
      "label=41 conf=0.060786809772253036\n",
      "41: 0.06\n"
     ]
    },
    {
     "name": "stderr",
     "output_type": "stream",
     "text": [
      "\r",
      " 35%|███▌      | 150/426 [01:12<01:50,  2.50it/s]"
     ]
    },
    {
     "name": "stdout",
     "output_type": "stream",
     "text": [
      "label=40 conf=0.060786809772253036\n",
      "40: 0.06\n",
      "label=41 conf=0.04566899314522743\n",
      "41: 0.05\n",
      "label=41 conf=0.060786809772253036\n",
      "41: 0.06\n"
     ]
    },
    {
     "name": "stderr",
     "output_type": "stream",
     "text": [
      "\r",
      " 35%|███▌      | 151/426 [01:12<01:50,  2.49it/s]"
     ]
    },
    {
     "name": "stdout",
     "output_type": "stream",
     "text": [
      "label=41 conf=0.060786809772253036\n",
      "41: 0.06\n",
      "label=41 conf=0.060786809772253036\n",
      "41: 0.06\n",
      "label=39 conf=0.060786809772253036\n",
      "39: 0.06\n"
     ]
    },
    {
     "name": "stderr",
     "output_type": "stream",
     "text": [
      "\r",
      " 36%|███▌      | 152/426 [01:13<01:48,  2.52it/s]"
     ]
    },
    {
     "name": "stdout",
     "output_type": "stream",
     "text": [
      "label=13 conf=0.060786809772253036\n",
      "13: 0.06\n",
      "label=39 conf=0.060786809772253036\n",
      "39: 0.06\n",
      "label=41 conf=0.060786809772253036\n",
      "41: 0.06\n"
     ]
    },
    {
     "name": "stderr",
     "output_type": "stream",
     "text": [
      "\r",
      " 36%|███▌      | 153/426 [01:13<01:47,  2.54it/s]"
     ]
    },
    {
     "name": "stdout",
     "output_type": "stream",
     "text": [
      "label=40 conf=0.060786809772253036\n",
      "40: 0.06\n",
      "label=41 conf=0.060786809772253036\n",
      "41: 0.06\n",
      "label=39 conf=0.060786809772253036\n",
      "39: 0.06\n"
     ]
    },
    {
     "name": "stderr",
     "output_type": "stream",
     "text": [
      "\r",
      " 36%|███▌      | 154/426 [01:14<01:46,  2.56it/s]"
     ]
    },
    {
     "name": "stdout",
     "output_type": "stream",
     "text": [
      "label=40 conf=0.060786809772253036\n",
      "40: 0.06\n",
      "label=22 conf=0.060786809772253036\n",
      "22: 0.06\n",
      "label=22 conf=0.0607140026986599\n",
      "22: 0.06\n"
     ]
    },
    {
     "name": "stderr",
     "output_type": "stream",
     "text": [
      "\r",
      " 36%|███▋      | 155/426 [01:14<01:44,  2.58it/s]"
     ]
    },
    {
     "name": "stdout",
     "output_type": "stream",
     "text": [
      "label=11 conf=0.060786809772253036\n",
      "11: 0.06\n",
      "label=15 conf=0.060786809772253036\n",
      "15: 0.06\n",
      "label=40 conf=0.060786809772253036\n",
      "40: 0.06\n"
     ]
    },
    {
     "name": "stderr",
     "output_type": "stream",
     "text": [
      "\r",
      " 37%|███▋      | 156/426 [01:14<01:49,  2.47it/s]"
     ]
    },
    {
     "name": "stdout",
     "output_type": "stream",
     "text": [
      "label=41 conf=0.05893883481621742\n",
      "41: 0.06\n",
      "label=41 conf=0.060786809772253036\n",
      "41: 0.06\n",
      "label=34 conf=0.060786809772253036\n",
      "34: 0.06\n"
     ]
    },
    {
     "name": "stderr",
     "output_type": "stream",
     "text": [
      "\r",
      " 37%|███▋      | 157/426 [01:15<01:45,  2.55it/s]"
     ]
    },
    {
     "name": "stdout",
     "output_type": "stream",
     "text": [
      "label=38 conf=0.060754429548978806\n",
      "38: 0.06\n",
      "label=39 conf=0.060786809772253036\n",
      "39: 0.06\n",
      "label=39 conf=0.060786809772253036\n",
      "39: 0.06\n"
     ]
    },
    {
     "name": "stderr",
     "output_type": "stream",
     "text": [
      "\r",
      " 37%|███▋      | 158/426 [01:15<01:45,  2.54it/s]"
     ]
    },
    {
     "name": "stdout",
     "output_type": "stream",
     "text": [
      "label=40 conf=0.060786809772253036\n",
      "40: 0.06\n",
      "label=41 conf=0.060786809772253036\n",
      "41: 0.06\n",
      "label=12 conf=0.060786809772253036\n",
      "12: 0.06\n"
     ]
    },
    {
     "name": "stderr",
     "output_type": "stream",
     "text": [
      "\r",
      " 37%|███▋      | 159/426 [01:16<01:46,  2.50it/s]"
     ]
    },
    {
     "name": "stdout",
     "output_type": "stream",
     "text": [
      "label=42 conf=0.060003627091646194\n",
      "42: 0.06\n",
      "label=41 conf=0.060786809772253036\n",
      "41: 0.06\n",
      "label=34 conf=0.060786809772253036\n",
      "34: 0.06\n"
     ]
    },
    {
     "name": "stderr",
     "output_type": "stream",
     "text": [
      "\r",
      " 38%|███▊      | 160/426 [01:16<01:42,  2.60it/s]"
     ]
    },
    {
     "name": "stdout",
     "output_type": "stream",
     "text": [
      "label=41 conf=0.060786809772253036\n",
      "41: 0.06\n",
      "label=40 conf=0.060786809772253036\n",
      "40: 0.06\n",
      "label=41 conf=0.060786809772253036\n",
      "41: 0.06\n"
     ]
    },
    {
     "name": "stderr",
     "output_type": "stream",
     "text": [
      "\r",
      " 38%|███▊      | 161/426 [01:16<01:44,  2.54it/s]"
     ]
    },
    {
     "name": "stdout",
     "output_type": "stream",
     "text": [
      "label=42 conf=0.060786809772253036\n",
      "42: 0.06\n",
      "label=40 conf=0.060786809772253036\n",
      "40: 0.06\n",
      "label=41 conf=0.06071310117840767\n",
      "41: 0.06\n"
     ]
    },
    {
     "name": "stderr",
     "output_type": "stream",
     "text": [
      "\r",
      " 38%|███▊      | 162/426 [01:17<01:46,  2.49it/s]"
     ]
    },
    {
     "name": "stdout",
     "output_type": "stream",
     "text": [
      "label=38 conf=0.060786809772253036\n",
      "38: 0.06\n",
      "label=40 conf=0.060786809772253036\n",
      "40: 0.06\n",
      "label=39 conf=0.060786809772253036\n",
      "39: 0.06\n"
     ]
    },
    {
     "name": "stderr",
     "output_type": "stream",
     "text": [
      "\r",
      " 38%|███▊      | 163/426 [01:17<01:47,  2.45it/s]"
     ]
    },
    {
     "name": "stdout",
     "output_type": "stream",
     "text": [
      "label=34 conf=0.06078679487109184\n",
      "34: 0.06\n",
      "label=41 conf=0.060786809772253036\n",
      "41: 0.06\n",
      "label=41 conf=0.060786809772253036\n",
      "41: 0.06\n"
     ]
    },
    {
     "name": "stderr",
     "output_type": "stream",
     "text": [
      "\r",
      " 38%|███▊      | 164/426 [01:18<01:45,  2.47it/s]"
     ]
    },
    {
     "name": "stdout",
     "output_type": "stream",
     "text": [
      "label=40 conf=0.060786809772253036\n",
      "40: 0.06\n",
      "label=42 conf=0.060786809772253036\n",
      "42: 0.06\n",
      "label=39 conf=0.060786809772253036\n",
      "39: 0.06\n"
     ]
    },
    {
     "name": "stderr",
     "output_type": "stream",
     "text": [
      "\r",
      " 39%|███▊      | 165/426 [01:18<01:44,  2.51it/s]"
     ]
    },
    {
     "name": "stdout",
     "output_type": "stream",
     "text": [
      "label=40 conf=0.060786809772253036\n",
      "40: 0.06\n",
      "label=17 conf=0.060786809772253036\n",
      "17: 0.06\n",
      "label=41 conf=0.060786809772253036\n",
      "41: 0.06\n"
     ]
    },
    {
     "name": "stderr",
     "output_type": "stream",
     "text": [
      "\r",
      " 39%|███▉      | 166/426 [01:18<01:47,  2.42it/s]"
     ]
    },
    {
     "name": "stdout",
     "output_type": "stream",
     "text": [
      "label=40 conf=0.060786809772253036\n",
      "40: 0.06\n",
      "label=41 conf=0.060786809772253036\n",
      "41: 0.06\n",
      "label=42 conf=0.060786809772253036\n",
      "42: 0.06\n"
     ]
    },
    {
     "name": "stderr",
     "output_type": "stream",
     "text": [
      "\r",
      " 39%|███▉      | 167/426 [01:19<01:49,  2.37it/s]"
     ]
    },
    {
     "name": "stdout",
     "output_type": "stream",
     "text": [
      "label=41 conf=0.060786809772253036\n",
      "41: 0.06\n",
      "label=41 conf=0.060786809772253036\n",
      "41: 0.06\n",
      "label=42 conf=0.060786809772253036\n",
      "42: 0.06\n"
     ]
    },
    {
     "name": "stderr",
     "output_type": "stream",
     "text": [
      "\r",
      " 39%|███▉      | 168/426 [01:19<01:46,  2.42it/s]"
     ]
    },
    {
     "name": "stdout",
     "output_type": "stream",
     "text": [
      "label=40 conf=0.060786809772253036\n",
      "40: 0.06\n",
      "label=23 conf=0.060786809772253036\n",
      "23: 0.06\n",
      "label=22 conf=0.060786809772253036\n",
      "22: 0.06\n"
     ]
    },
    {
     "name": "stderr",
     "output_type": "stream",
     "text": [
      "\r",
      " 40%|███▉      | 169/426 [01:20<01:51,  2.31it/s]"
     ]
    },
    {
     "name": "stdout",
     "output_type": "stream",
     "text": [
      "label=38 conf=0.060786809772253036\n",
      "38: 0.06\n",
      "label=40 conf=0.060786809772253036\n",
      "40: 0.06\n",
      "label=22 conf=0.060786809772253036\n",
      "22: 0.06\n"
     ]
    },
    {
     "name": "stderr",
     "output_type": "stream",
     "text": [
      "\r",
      " 40%|███▉      | 170/426 [01:20<01:45,  2.42it/s]"
     ]
    },
    {
     "name": "stdout",
     "output_type": "stream",
     "text": [
      "label=40 conf=0.060786809772253036\n",
      "40: 0.06\n",
      "label=39 conf=0.060786809772253036\n",
      "39: 0.06\n",
      "label=39 conf=0.060786809772253036\n",
      "39: 0.06\n"
     ]
    },
    {
     "name": "stderr",
     "output_type": "stream",
     "text": [
      "\r",
      " 40%|████      | 171/426 [01:20<01:44,  2.44it/s]"
     ]
    },
    {
     "name": "stdout",
     "output_type": "stream",
     "text": [
      "label=41 conf=0.060786809772253036\n",
      "41: 0.06\n",
      "label=22 conf=0.060786809772253036\n",
      "22: 0.06\n",
      "label=39 conf=0.060786809772253036\n",
      "39: 0.06\n"
     ]
    },
    {
     "name": "stderr",
     "output_type": "stream",
     "text": [
      "\r",
      " 40%|████      | 172/426 [01:21<01:39,  2.55it/s]"
     ]
    },
    {
     "name": "stdout",
     "output_type": "stream",
     "text": [
      "label=41 conf=0.060786809772253036\n",
      "41: 0.06\n",
      "label=22 conf=0.060786809772253036\n",
      "22: 0.06\n",
      "label=39 conf=0.060786809772253036\n",
      "39: 0.06\n"
     ]
    },
    {
     "name": "stderr",
     "output_type": "stream",
     "text": [
      "\r",
      " 41%|████      | 173/426 [01:21<01:36,  2.63it/s]"
     ]
    },
    {
     "name": "stdout",
     "output_type": "stream",
     "text": [
      "label=41 conf=0.060683462768793106\n",
      "41: 0.06\n",
      "label=40 conf=0.060786809772253036\n",
      "40: 0.06\n",
      "label=39 conf=0.060786809772253036\n",
      "39: 0.06\n"
     ]
    },
    {
     "name": "stderr",
     "output_type": "stream",
     "text": [
      "\r",
      " 41%|████      | 174/426 [01:22<01:37,  2.59it/s]"
     ]
    },
    {
     "name": "stdout",
     "output_type": "stream",
     "text": [
      "label=40 conf=0.060786809772253036\n",
      "40: 0.06\n",
      "label=41 conf=0.060786809772253036\n",
      "41: 0.06\n",
      "label=22 conf=0.060786809772253036\n",
      "22: 0.06\n"
     ]
    },
    {
     "name": "stderr",
     "output_type": "stream",
     "text": [
      "\r",
      " 41%|████      | 175/426 [01:22<01:32,  2.71it/s]"
     ]
    },
    {
     "name": "stdout",
     "output_type": "stream",
     "text": [
      "label=21 conf=0.060782793909311295\n",
      "21: 0.06\n",
      "label=42 conf=0.060786809772253036\n",
      "42: 0.06\n",
      "label=39 conf=0.060786809772253036\n",
      "39: 0.06\n"
     ]
    },
    {
     "name": "stderr",
     "output_type": "stream",
     "text": [
      "\r",
      " 41%|████▏     | 176/426 [01:22<01:29,  2.80it/s]"
     ]
    },
    {
     "name": "stdout",
     "output_type": "stream",
     "text": [
      "label=41 conf=0.05863156169652939\n",
      "41: 0.06\n",
      "label=41 conf=0.060786809772253036\n",
      "41: 0.06\n",
      "label=42 conf=0.06078583747148514\n",
      "42: 0.06\n"
     ]
    },
    {
     "name": "stderr",
     "output_type": "stream",
     "text": [
      "\r",
      " 42%|████▏     | 177/426 [01:23<01:30,  2.76it/s]"
     ]
    },
    {
     "name": "stdout",
     "output_type": "stream",
     "text": [
      "label=41 conf=0.060786809772253036\n",
      "41: 0.06\n",
      "label=42 conf=0.060786809772253036\n",
      "42: 0.06\n",
      "label=40 conf=0.060786809772253036\n",
      "40: 0.06\n"
     ]
    },
    {
     "name": "stderr",
     "output_type": "stream",
     "text": [
      "\r",
      " 42%|████▏     | 178/426 [01:23<01:31,  2.72it/s]"
     ]
    },
    {
     "name": "stdout",
     "output_type": "stream",
     "text": [
      "label=34 conf=0.060786809772253036\n",
      "34: 0.06\n",
      "label=42 conf=0.060786809772253036\n",
      "42: 0.06\n",
      "label=40 conf=0.060786809772253036\n",
      "40: 0.06\n"
     ]
    },
    {
     "name": "stderr",
     "output_type": "stream",
     "text": [
      "\r",
      " 42%|████▏     | 179/426 [01:23<01:30,  2.73it/s]"
     ]
    },
    {
     "name": "stdout",
     "output_type": "stream",
     "text": [
      "label=11 conf=0.06077827513217926\n",
      "11: 0.06\n",
      "label=14 conf=0.060786809772253036\n",
      "14: 0.06\n",
      "label=39 conf=0.060786809772253036\n",
      "39: 0.06\n"
     ]
    },
    {
     "name": "stderr",
     "output_type": "stream",
     "text": [
      "\r",
      " 42%|████▏     | 180/426 [01:24<01:32,  2.66it/s]"
     ]
    },
    {
     "name": "stdout",
     "output_type": "stream",
     "text": [
      "label=19 conf=0.060786809772253036\n",
      "19: 0.06\n",
      "label=42 conf=0.060786809772253036\n",
      "42: 0.06\n",
      "label=13 conf=0.060786809772253036\n",
      "13: 0.06\n"
     ]
    },
    {
     "name": "stderr",
     "output_type": "stream",
     "text": [
      "\r",
      " 42%|████▏     | 181/426 [01:24<01:29,  2.74it/s]"
     ]
    },
    {
     "name": "stdout",
     "output_type": "stream",
     "text": [
      "label=22 conf=0.060786809772253036\n",
      "22: 0.06\n",
      "label=41 conf=0.060786809772253036\n",
      "41: 0.06\n",
      "label=40 conf=0.060786809772253036\n",
      "40: 0.06\n"
     ]
    },
    {
     "name": "stderr",
     "output_type": "stream",
     "text": [
      "\r",
      " 43%|████▎     | 182/426 [01:24<01:33,  2.61it/s]"
     ]
    },
    {
     "name": "stdout",
     "output_type": "stream",
     "text": [
      "label=19 conf=0.060786809772253036\n",
      "19: 0.06\n",
      "label=41 conf=0.060786809772253036\n",
      "41: 0.06\n",
      "label=39 conf=0.060786809772253036\n",
      "39: 0.06\n"
     ]
    },
    {
     "name": "stderr",
     "output_type": "stream",
     "text": [
      "\r",
      " 43%|████▎     | 183/426 [01:25<01:38,  2.47it/s]"
     ]
    },
    {
     "name": "stdout",
     "output_type": "stream",
     "text": [
      "label=41 conf=0.060786809772253036\n",
      "41: 0.06\n",
      "label=41 conf=0.0607835054397583\n",
      "41: 0.06\n",
      "label=40 conf=0.060786809772253036\n",
      "40: 0.06\n"
     ]
    },
    {
     "name": "stderr",
     "output_type": "stream",
     "text": [
      "\r",
      " 43%|████▎     | 184/426 [01:25<01:38,  2.45it/s]"
     ]
    },
    {
     "name": "stdout",
     "output_type": "stream",
     "text": [
      "label=33 conf=0.060786809772253036\n",
      "33: 0.06\n",
      "label=13 conf=0.060700491070747375\n",
      "13: 0.06\n",
      "label=42 conf=0.060786809772253036\n",
      "42: 0.06\n"
     ]
    },
    {
     "name": "stderr",
     "output_type": "stream",
     "text": [
      "\r",
      " 43%|████▎     | 185/426 [01:26<01:46,  2.27it/s]"
     ]
    },
    {
     "name": "stdout",
     "output_type": "stream",
     "text": [
      "label=33 conf=0.04921441152691841\n",
      "33: 0.05\n",
      "label=41 conf=0.060786809772253036\n",
      "41: 0.06\n",
      "label=19 conf=0.060786809772253036\n",
      "19: 0.06\n"
     ]
    },
    {
     "name": "stderr",
     "output_type": "stream",
     "text": [
      "\r",
      " 44%|████▎     | 186/426 [01:26<01:46,  2.25it/s]"
     ]
    },
    {
     "name": "stdout",
     "output_type": "stream",
     "text": [
      "label=41 conf=0.060786809772253036\n",
      "41: 0.06\n",
      "label=41 conf=0.060786809772253036\n",
      "41: 0.06\n",
      "label=42 conf=0.060786809772253036\n",
      "42: 0.06\n"
     ]
    },
    {
     "name": "stderr",
     "output_type": "stream",
     "text": [
      "\r",
      " 44%|████▍     | 187/426 [01:27<02:05,  1.91it/s]"
     ]
    },
    {
     "name": "stdout",
     "output_type": "stream",
     "text": [
      "label=39 conf=0.060786809772253036\n",
      "39: 0.06\n",
      "label=42 conf=0.060786809772253036\n",
      "42: 0.06\n",
      "label=41 conf=0.060786809772253036\n",
      "41: 0.06\n"
     ]
    }
   ],
   "source": [
    "#全局计数器\n",
    "count=0\n",
    "\n",
    "#实现回调函数 处理每一帧图像\n",
    "def invert_VideoFileClip(image):\n",
    "    \n",
    "    #仅处理一部分 提高效率\n",
    "    if count % 10 == 0 :\n",
    "       \n",
    "        bboxes = find_circles(image, mg_ratio=0.4, n_circles=3)\n",
    "        for bbox in bboxes:\n",
    "            crop = crop_bb(image, bbox)\n",
    "            #resized_im = resize(crop)\n",
    "            resized_im=cv2.resize(crop,(32,32))\n",
    "            resized_im = np.expand_dims(resized_im, axis=0)\n",
    "            #label = signnames[predict(model, resized_im)]\n",
    "            logit=softmax(model.predict([resized_im])[0])\n",
    "            label = np.argmax(logit)\n",
    "            conf = logit[label]\n",
    "            # Consider detection only if confidence is larger than threshold\n",
    "            print(\"label={} conf={}\".format(label,conf))\n",
    "            if (conf > CONF_THRES ) and  (label in cir_cls) :\n",
    "                #print(\"Draw label={} conf={}\".format(label,conf))\n",
    "                img = draw_bb(image, bbox)\n",
    "                # Put label and confidence\n",
    "                cv2.putText(image, '{}: {:.2f}'.format(signnames[label], conf), (bbox[0], bbox[1] - 10),\n",
    "                            cv2.FONT_HERSHEY_SIMPLEX, 1, (0, 1, 0), 2)\n",
    "            else:\n",
    "                print('{}: {:.2f}'.format(label, conf))\n",
    "    \n",
    "    return image\n",
    "\n",
    "clip = VideoFileClip(infile)\n",
    "modifiedClip = clip.fl_image(invert_VideoFileClip)\n",
    "modifiedClip.write_videofile(outfile)"
   ]
  },
  {
   "cell_type": "code",
   "execution_count": null,
   "metadata": {
    "collapsed": true
   },
   "outputs": [],
   "source": []
  }
 ],
 "metadata": {
  "kernelspec": {
   "display_name": "book5",
   "language": "python",
   "name": "book5"
  },
  "language_info": {
   "codemirror_mode": {
    "name": "ipython",
    "version": 3
   },
   "file_extension": ".py",
   "mimetype": "text/x-python",
   "name": "python",
   "nbconvert_exporter": "python",
   "pygments_lexer": "ipython3",
   "version": "3.6.7"
  }
 },
 "nbformat": 4,
 "nbformat_minor": 2
}
