{
 "cells": [
  {
   "cell_type": "code",
   "execution_count": null,
   "metadata": {},
   "outputs": [],
   "source": [
    "import os\n",
    "import sys\n",
    "import cv2\n",
    "#brew install opencv\n",
    "#pip install opencv-python\n",
    "import numpy as np\n",
    "from pandas import read_csv\n",
    "#pip install moviepy\n",
    "#pip install requests\n",
    "from moviepy.editor import *\n",
    "from matplotlib import pyplot as plt \n",
    "import keras\n",
    "from keras.layers.convolutional import Convolution2D, MaxPooling2D\n",
    "from keras.layers.core import Activation, Dense, Dropout, Flatten\n",
    "from keras.layers.normalization import BatchNormalization\n",
    "from keras.models import Sequential\n",
    "import tensorflow as tf\n",
    "\n",
    "\n",
    "infile=\"../picture/v.mp4\"\n",
    "outfile=\"../picture/v-output.mp4\"\n",
    "\n",
    "'''\n",
    "Code adapted from:\n",
    "https://www.pyimagesearch.com/2016/11/07/intersection-over-union-iou-for-object-detection/\n",
    "\n",
    "'''\n",
    "\n",
    "IMG_SHAPE=[32,32,3]\n",
    "INPUT_SHAPE=[1,32,32,3]\n",
    "L2_LAMBDA = 0.0001   \n",
    "WEIGTHS_PATH=\"../doc/weights_mltscl_dataaug.hdf5\"\n",
    "OUTPUT_DIM=43\n",
    "LR = 0.0001\n",
    "CONF_THRES=0.3\n",
    "\n",
    "# Labels of circlur signs\n",
    "cir_cls = [0, 1, 2, 3, 4, 5, 6, 7, 8, 9, 10, 15, 16,\n",
    "           17, 32, 33, 34, 35, 36, 37, 38, 39, 40, 41, 42]\n",
    "\n",
    "signnames = read_csv(\"../doc/signnames.csv\").values[:, 1]\n",
    "\n",
    "print(signnames)\n",
    "\n",
    "def softmax(x):\n",
    "    \"\"\"\n",
    "    Compute softmax values for each sets of scores in x.\n",
    "    Ref: https://stackoverflow.com/questions/34968722/softmax-function-python\n",
    "    \"\"\"\n",
    "    e_x = np.exp(x - np.max(x))\n",
    "    return e_x / e_x.sum(axis=0)\n",
    "\n",
    "def build_mltscl():\n",
    "    \"\"\"\n",
    "    Build multiscale CNN. The last layer must be logits instead of softmax.\n",
    "    Return a compiled Keras model.\n",
    "    \"\"\"\n",
    "\n",
    "    # Regularization\n",
    "    l2_reg = keras.regularizers.l2(L2_LAMBDA)\n",
    "\n",
    "    # Build model\n",
    "    inpt = keras.layers.Input(shape=IMG_SHAPE)\n",
    "    conv1 = keras.layers.Convolution2D(\n",
    "        32, (5, 5), padding='same', activation='relu')(inpt)\n",
    "    drop1 = keras.layers.Dropout(rate=0.1)(conv1)\n",
    "    pool1 = keras.layers.MaxPooling2D(pool_size=(2, 2))(drop1)\n",
    "\n",
    "    conv2 = keras.layers.Convolution2D(\n",
    "        64, (5, 5), padding='same', activation='relu')(pool1)\n",
    "    drop2 = keras.layers.Dropout(rate=0.2)(conv2)\n",
    "    pool2 = keras.layers.MaxPooling2D(pool_size=(2, 2))(drop2)\n",
    "\n",
    "    conv3 = keras.layers.Convolution2D(\n",
    "        128, (5, 5), padding='same', activation='relu')(pool2)\n",
    "    drop3 = keras.layers.Dropout(rate=0.3)(conv3)\n",
    "    pool3 = keras.layers.MaxPooling2D(pool_size=(2, 2))(drop3)\n",
    "\n",
    "    pool4 = keras.layers.MaxPooling2D(pool_size=(4, 4))(pool1)\n",
    "    pool5 = keras.layers.MaxPooling2D(pool_size=(2, 2))(pool2)\n",
    "\n",
    "    flat1 = keras.layers.Flatten()(pool4)\n",
    "    flat2 = keras.layers.Flatten()(pool5)\n",
    "    flat3 = keras.layers.Flatten()(pool3)\n",
    "\n",
    "    merge = keras.layers.Concatenate(axis=-1)([flat1, flat2, flat3])\n",
    "    dense1 = keras.layers.Dense(1024, activation='relu',\n",
    "                                kernel_regularizer=l2_reg)(merge)\n",
    "    drop4 = keras.layers.Dropout(rate=0.5)(dense1)\n",
    "    output = keras.layers.Dense(\n",
    "        OUTPUT_DIM, activation=None, kernel_regularizer=l2_reg)(drop4)\n",
    "    model = keras.models.Model(inputs=inpt, outputs=output)\n",
    "\n",
    "    # Specify optimizer\n",
    "    adam = keras.optimizers.Adam(\n",
    "        lr=LR, beta_1=0.9, beta_2=0.999, epsilon=1e-08, decay=0.0)\n",
    "    \n",
    "    model.compile(optimizer=adam, loss='categorical_crossentropy', metrics=['accuracy'])\n",
    "\n",
    "    return model\n",
    "\n",
    "model=build_mltscl()\n",
    "model.load_weights(WEIGTHS_PATH)\n",
    "#model.summary()\n",
    "\n",
    "def rgb2gray(image):\n",
    "    \"\"\"Convert 3-channel RGB image into grayscale\"\"\"\n",
    "    if image.ndim == 3:\n",
    "        return (0.299 * image[:, :, 0] + 0.587 * image[:, :, 1] +\n",
    "                0.114 * image[:, :, 2])\n",
    "    elif image.ndim == 4:\n",
    "        return (0.299 * image[:, :, :, 0] + 0.587 * image[:, :, :, 1] +\n",
    "                0.114 * image[:, :, :, 2])\n",
    "\n",
    "#识别原型的交通牌\n",
    "def find_circles(img, mg_ratio=0.4, n_circles=1):\n",
    "    \"\"\"\n",
    "    Find circular objects and return bounding boxes in the format\n",
    "    [x1, y1, x2, y2]\n",
    "    \"\"\"\n",
    "\n",
    "    targetImg = np.copy(img)\n",
    "    targetImg = np.uint8(targetImg * 255)\n",
    "    # Apply Gaussian blur if needed\n",
    "    n = 13\n",
    "    targetImg = cv2.GaussianBlur(targetImg, (n, n), 0)\n",
    "\n",
    "    # Convert to grayscale\n",
    "    grayImg = np.uint8(rgb2gray(targetImg))\n",
    "    #grayImg = targetImg\n",
    "    # param1 is canny threshold, param2 is circle accumulator threshold\n",
    "    # Set of parameters for GTSDB testing\n",
    "    # (because of different frame size and recording device)\n",
    "    # circles = cv2.HoughCircles(grayImg, cv2.HOUGH_GRADIENT, 1, 200,\n",
    "    #                            param1=60, param2=50, minRadius=5,\n",
    "    #                            maxRadius=100)\n",
    "    \n",
    "    #通过调节minRadius=20,maxRadius=250设置可以检测的车牌大小\n",
    "    circles = cv2.HoughCircles(grayImg, cv2.HOUGH_GRADIENT, 1, 200,\n",
    "                               param1=50, param2=30, minRadius=16,\n",
    "                               maxRadius=50)\n",
    "\n",
    "    bboxes = []\n",
    "    try:\n",
    "        cir = circles.astype(np.uint16)\n",
    "        for c in cir[0, :n_circles]:\n",
    "            r = int(c[2])\n",
    "            mg = int(r * mg_ratio)\n",
    "            bboxes.append([c[0] - r - mg, c[1] - r - mg,\n",
    "                           c[0] + r + mg, c[1] + r + mg])\n",
    "    except AttributeError:\n",
    "        pass\n",
    "    except:\n",
    "        raise\n",
    "    return bboxes\n",
    "\n",
    "\n",
    "def draw_bb(img, bbox, color=(0, 1, 0)):\n",
    "    \"\"\"Draw bounding box\"\"\"\n",
    "    cv2.rectangle(img, (bbox[0], bbox[1]), (bbox[2], bbox[3]),\n",
    "                  color, 2)\n",
    "    return img\n",
    "\n",
    "def crop_bb(img, bbox):\n",
    "    \"\"\"Crop image by specifying bounding box\"\"\"\n",
    "    bb = np.array(bbox)\n",
    "    bb = bb * (bb > 0)\n",
    "    return img[bb[1]:bb[3], bb[0]:bb[2], :]\n",
    "\n",
    "\n",
    "def demo():\n",
    "    \n",
    "    demo_file=\"../picture/traffic_sign.jpeg\"\n",
    "    #OpenCV读取的格式为BGR 需要转换成RGB进行展现\n",
    "    demo_img=cv2.imread(demo_file)\n",
    "    demo_img=cv2.cvtColor(demo_img, cv2.COLOR_BGR2RGB) \n",
    "    show_img=demo_img.copy()\n",
    "    plt.imshow(show_img) \n",
    "    plt.show() \n",
    "    \n",
    "    #归一化 非常重要\n",
    "    show_img=(show_img / 255.).astype(np.float32)\n",
    "    \n",
    "    bboxes = find_circles(show_img, mg_ratio=0.4, n_circles=3)\n",
    "    for bbox in bboxes:\n",
    "        crop = crop_bb(show_img, bbox)\n",
    "        #resized_im = resize(crop)\n",
    "        resized_im=cv2.resize(crop,(32,32))\n",
    "        \n",
    "        #plt.imshow(resized_im) \n",
    "        #plt.show() \n",
    "        \n",
    "        resized_im=resized_im.reshape(INPUT_SHAPE)\n",
    "        #print(resized_im)\n",
    "        #resized_im =np.expand_dims(resized_im, axis=0)\n",
    "        #label = signnames[predict(model, resized_im)]\n",
    "        label = np.argmax(model.predict(resized_im)[0])\n",
    "        conf = np.max(softmax(model.predict(resized_im)[0]))\n",
    "        # Consider detection only if confidence is larger than threshold\n",
    "        print(\"label=[{}] id={} conf={}\".format(signnames[label],label,conf))\n",
    "        if (conf > CONF_THRES ) and  (label in cir_cls) :\n",
    "            print(\"Draw: label=[{}] id={} conf={}\".format(signnames[label],label,conf))\n",
    "            show_img = draw_bb(show_img, bbox)\n",
    "            # Put label and confidence\n",
    "            cv2.putText(show_img, '{}: {:.2f}'.format(signnames[label], conf), (bbox[0], bbox[1] - 10),\n",
    "                        cv2.FONT_HERSHEY_SIMPLEX, 1, (0, 1, 0), 2)\n",
    "        else:\n",
    "            print('No Draw: label=[{}] id={} conf={}'.format(signnames[label],label, conf))\n",
    "\n",
    "    \n",
    "    show_img=np.uint8(show_img * 255)\n",
    "    plt.imshow(show_img) \n",
    "    plt.show() \n",
    "demo()\n"
   ]
  },
  {
   "cell_type": "code",
   "execution_count": 2,
   "metadata": {},
   "outputs": [
    {
     "name": "stdout",
     "output_type": "stream",
     "text": [
      "label=[Speed limit (100km/h)] id=7 conf=0.43100589513778687\n",
      "Draw: label=[Speed limit (100km/h)] id=7 conf=0.43100589513778687\n",
      "[MoviePy] >>>> Building video ../picture/v-output.mp4\n",
      "[MoviePy] Writing audio in v-outputTEMP_MPY_wvf_snd.mp3\n"
     ]
    },
    {
     "name": "stderr",
     "output_type": "stream",
     "text": [
      "100%|██████████| 314/314 [00:00<00:00, 403.82it/s]"
     ]
    },
    {
     "name": "stdout",
     "output_type": "stream",
     "text": [
      "[MoviePy] Done.\n"
     ]
    },
    {
     "name": "stderr",
     "output_type": "stream",
     "text": [
      "\n"
     ]
    },
    {
     "name": "stdout",
     "output_type": "stream",
     "text": [
      "[MoviePy] Writing video ../picture/v-output.mp4\n"
     ]
    },
    {
     "name": "stderr",
     "output_type": "stream",
     "text": [
      "  0%|          | 2/426 [00:00<00:33, 12.81it/s]"
     ]
    },
    {
     "name": "stdout",
     "output_type": "stream",
     "text": [
      "label=[Speed limit (100km/h)] id=7 conf=0.43100589513778687\n",
      "Draw: label=[Speed limit (100km/h)] id=7 conf=0.43100589513778687\n",
      "label=[Speed limit (100km/h)] id=7 conf=0.4040176570415497\n",
      "Draw: label=[Speed limit (100km/h)] id=7 conf=0.4040176570415497\n",
      "label=[End of all speed and passing limits] id=32 conf=0.34744301438331604\n",
      "Draw: label=[End of all speed and passing limits] id=32 conf=0.34744301438331604\n"
     ]
    },
    {
     "name": "stderr",
     "output_type": "stream",
     "text": [
      "\r",
      "  1%|          | 4/426 [00:00<00:32, 12.98it/s]"
     ]
    },
    {
     "name": "stdout",
     "output_type": "stream",
     "text": [
      "label=[Speed limit (100km/h)] id=7 conf=0.7346612811088562\n",
      "Draw: label=[Speed limit (100km/h)] id=7 conf=0.7346612811088562\n",
      "label=[Speed limit (100km/h)] id=7 conf=0.8991836309432983\n",
      "Draw: label=[Speed limit (100km/h)] id=7 conf=0.8991836309432983\n"
     ]
    },
    {
     "name": "stderr",
     "output_type": "stream",
     "text": [
      "\r",
      "  1%|▏         | 6/426 [00:00<00:31, 13.48it/s]"
     ]
    },
    {
     "name": "stdout",
     "output_type": "stream",
     "text": [
      "label=[Speed limit (100km/h)] id=7 conf=0.8716875314712524\n",
      "Draw: label=[Speed limit (100km/h)] id=7 conf=0.8716875314712524\n"
     ]
    },
    {
     "name": "stderr",
     "output_type": "stream",
     "text": [
      "\r",
      "  2%|▏         | 8/426 [00:00<00:31, 13.07it/s]"
     ]
    },
    {
     "name": "stdout",
     "output_type": "stream",
     "text": [
      "label=[Priority road] id=12 conf=0.3948381543159485\n",
      "label=[Speed limit (100km/h)] id=7 conf=0.24085624516010284\n",
      "label=[Speed limit (100km/h)] id=7 conf=0.6862083673477173\n",
      "Draw: label=[Speed limit (100km/h)] id=7 conf=0.6862083673477173\n"
     ]
    },
    {
     "name": "stderr",
     "output_type": "stream",
     "text": [
      "\r",
      "  2%|▏         | 10/426 [00:00<00:32, 12.98it/s]"
     ]
    },
    {
     "name": "stdout",
     "output_type": "stream",
     "text": [
      "label=[Speed limit (100km/h)] id=7 conf=0.973065972328186\n",
      "Draw: label=[Speed limit (100km/h)] id=7 conf=0.973065972328186\n",
      "label=[Speed limit (100km/h)] id=7 conf=0.6607848405838013\n",
      "Draw: label=[Speed limit (100km/h)] id=7 conf=0.6607848405838013\n"
     ]
    },
    {
     "name": "stderr",
     "output_type": "stream",
     "text": [
      "\r",
      "  3%|▎         | 12/426 [00:00<00:31, 13.21it/s]"
     ]
    },
    {
     "name": "stdout",
     "output_type": "stream",
     "text": [
      "label=[Speed limit (100km/h)] id=7 conf=0.311979740858078\n",
      "Draw: label=[Speed limit (100km/h)] id=7 conf=0.311979740858078\n"
     ]
    },
    {
     "name": "stderr",
     "output_type": "stream",
     "text": [
      "\r",
      "  3%|▎         | 14/426 [00:01<00:30, 13.39it/s]"
     ]
    },
    {
     "name": "stdout",
     "output_type": "stream",
     "text": [
      "label=[Priority road] id=12 conf=0.5799664258956909\n",
      "label=[Speed limit (100km/h)] id=7 conf=0.9973809123039246\n",
      "Draw: label=[Speed limit (100km/h)] id=7 conf=0.9973809123039246\n",
      "label=[Speed limit (100km/h)] id=7 conf=0.9679114818572998\n",
      "Draw: label=[Speed limit (100km/h)] id=7 conf=0.9679114818572998\n"
     ]
    },
    {
     "name": "stderr",
     "output_type": "stream",
     "text": [
      "\r",
      "  4%|▍         | 16/426 [00:01<00:32, 12.78it/s]"
     ]
    },
    {
     "name": "stdout",
     "output_type": "stream",
     "text": [
      "label=[Keep left] id=39 conf=0.6018264889717102\n",
      "Draw: label=[Keep left] id=39 conf=0.6018264889717102\n",
      "label=[Right-of-way at the next intersection] id=11 conf=0.1800796538591385\n",
      "label=[Speed limit (100km/h)] id=7 conf=0.33106157183647156\n",
      "Draw: label=[Speed limit (100km/h)] id=7 conf=0.33106157183647156\n",
      "label=[Speed limit (50km/h)] id=2 conf=0.1278165578842163\n"
     ]
    },
    {
     "name": "stderr",
     "output_type": "stream",
     "text": [
      "\r",
      "  4%|▍         | 18/426 [00:01<00:31, 12.93it/s]"
     ]
    },
    {
     "name": "stdout",
     "output_type": "stream",
     "text": [
      "label=[No vechiles] id=15 conf=0.5738183259963989\n",
      "Draw: label=[No vechiles] id=15 conf=0.5738183259963989\n"
     ]
    },
    {
     "name": "stderr",
     "output_type": "stream",
     "text": [
      "\r",
      "  5%|▍         | 20/426 [00:01<00:30, 13.35it/s]"
     ]
    },
    {
     "name": "stdout",
     "output_type": "stream",
     "text": [
      "label=[Speed limit (50km/h)] id=2 conf=0.19216221570968628\n",
      "label=[Speed limit (100km/h)] id=7 conf=0.588077187538147\n",
      "Draw: label=[Speed limit (100km/h)] id=7 conf=0.588077187538147\n",
      "label=[End of all speed and passing limits] id=32 conf=0.4746380150318146\n",
      "Draw: label=[End of all speed and passing limits] id=32 conf=0.4746380150318146\n"
     ]
    },
    {
     "name": "stderr",
     "output_type": "stream",
     "text": [
      "  6%|▌         | 24/426 [00:01<00:29, 13.75it/s]"
     ]
    },
    {
     "name": "stdout",
     "output_type": "stream",
     "text": [
      "label=[End of all speed and passing limits] id=32 conf=0.47413650155067444\n",
      "Draw: label=[End of all speed and passing limits] id=32 conf=0.47413650155067444\n",
      "label=[Speed limit (80km/h)] id=5 conf=0.22629621624946594\n"
     ]
    },
    {
     "name": "stderr",
     "output_type": "stream",
     "text": [
      "\r",
      "  6%|▌         | 26/426 [00:01<00:27, 14.52it/s]"
     ]
    },
    {
     "ename": "error",
     "evalue": "OpenCV(3.4.3) /Users/travis/build/skvark/opencv-python/opencv/modules/imgproc/src/resize.cpp:4044: error: (-215:Assertion failed) !ssize.empty() in function 'resize'\n",
     "output_type": "error",
     "traceback": [
      "\u001b[0;31m---------------------------------------------------------------------------\u001b[0m",
      "\u001b[0;31merror\u001b[0m                                     Traceback (most recent call last)",
      "\u001b[0;32m<ipython-input-2-4909b9b08028>\u001b[0m in \u001b[0;36m<module>\u001b[0;34m\u001b[0m\n\u001b[1;32m     38\u001b[0m \u001b[0mclip\u001b[0m \u001b[0;34m=\u001b[0m \u001b[0mVideoFileClip\u001b[0m\u001b[0;34m(\u001b[0m\u001b[0minfile\u001b[0m\u001b[0;34m)\u001b[0m\u001b[0;34m\u001b[0m\u001b[0m\n\u001b[1;32m     39\u001b[0m \u001b[0mmodifiedClip\u001b[0m \u001b[0;34m=\u001b[0m \u001b[0mclip\u001b[0m\u001b[0;34m.\u001b[0m\u001b[0mfl_image\u001b[0m\u001b[0;34m(\u001b[0m\u001b[0minvert_VideoFileClip\u001b[0m\u001b[0;34m)\u001b[0m\u001b[0;34m\u001b[0m\u001b[0m\n\u001b[0;32m---> 40\u001b[0;31m \u001b[0mmodifiedClip\u001b[0m\u001b[0;34m.\u001b[0m\u001b[0mwrite_videofile\u001b[0m\u001b[0;34m(\u001b[0m\u001b[0moutfile\u001b[0m\u001b[0;34m)\u001b[0m\u001b[0;34m\u001b[0m\u001b[0m\n\u001b[0m",
      "\u001b[0;32m<decorator-gen-175>\u001b[0m in \u001b[0;36mwrite_videofile\u001b[0;34m(self, filename, fps, codec, bitrate, audio, audio_fps, preset, audio_nbytes, audio_codec, audio_bitrate, audio_bufsize, temp_audiofile, rewrite_audio, remove_temp, write_logfile, verbose, threads, ffmpeg_params, progress_bar)\u001b[0m\n",
      "\u001b[0;32m~/anaconda2/envs/book5/lib/python3.6/site-packages/moviepy/decorators.py\u001b[0m in \u001b[0;36mrequires_duration\u001b[0;34m(f, clip, *a, **k)\u001b[0m\n\u001b[1;32m     52\u001b[0m         \u001b[0;32mraise\u001b[0m \u001b[0mValueError\u001b[0m\u001b[0;34m(\u001b[0m\u001b[0;34m\"Attribute 'duration' not set\"\u001b[0m\u001b[0;34m)\u001b[0m\u001b[0;34m\u001b[0m\u001b[0m\n\u001b[1;32m     53\u001b[0m     \u001b[0;32melse\u001b[0m\u001b[0;34m:\u001b[0m\u001b[0;34m\u001b[0m\u001b[0m\n\u001b[0;32m---> 54\u001b[0;31m         \u001b[0;32mreturn\u001b[0m \u001b[0mf\u001b[0m\u001b[0;34m(\u001b[0m\u001b[0mclip\u001b[0m\u001b[0;34m,\u001b[0m \u001b[0;34m*\u001b[0m\u001b[0ma\u001b[0m\u001b[0;34m,\u001b[0m \u001b[0;34m**\u001b[0m\u001b[0mk\u001b[0m\u001b[0;34m)\u001b[0m\u001b[0;34m\u001b[0m\u001b[0m\n\u001b[0m\u001b[1;32m     55\u001b[0m \u001b[0;34m\u001b[0m\u001b[0m\n\u001b[1;32m     56\u001b[0m \u001b[0;34m\u001b[0m\u001b[0m\n",
      "\u001b[0;32m<decorator-gen-174>\u001b[0m in \u001b[0;36mwrite_videofile\u001b[0;34m(self, filename, fps, codec, bitrate, audio, audio_fps, preset, audio_nbytes, audio_codec, audio_bitrate, audio_bufsize, temp_audiofile, rewrite_audio, remove_temp, write_logfile, verbose, threads, ffmpeg_params, progress_bar)\u001b[0m\n",
      "\u001b[0;32m~/anaconda2/envs/book5/lib/python3.6/site-packages/moviepy/decorators.py\u001b[0m in \u001b[0;36muse_clip_fps_by_default\u001b[0;34m(f, clip, *a, **k)\u001b[0m\n\u001b[1;32m    135\u001b[0m              for (k,v) in k.items()}\n\u001b[1;32m    136\u001b[0m \u001b[0;34m\u001b[0m\u001b[0m\n\u001b[0;32m--> 137\u001b[0;31m     \u001b[0;32mreturn\u001b[0m \u001b[0mf\u001b[0m\u001b[0;34m(\u001b[0m\u001b[0mclip\u001b[0m\u001b[0;34m,\u001b[0m \u001b[0;34m*\u001b[0m\u001b[0mnew_a\u001b[0m\u001b[0;34m,\u001b[0m \u001b[0;34m**\u001b[0m\u001b[0mnew_kw\u001b[0m\u001b[0;34m)\u001b[0m\u001b[0;34m\u001b[0m\u001b[0m\n\u001b[0m",
      "\u001b[0;32m<decorator-gen-173>\u001b[0m in \u001b[0;36mwrite_videofile\u001b[0;34m(self, filename, fps, codec, bitrate, audio, audio_fps, preset, audio_nbytes, audio_codec, audio_bitrate, audio_bufsize, temp_audiofile, rewrite_audio, remove_temp, write_logfile, verbose, threads, ffmpeg_params, progress_bar)\u001b[0m\n",
      "\u001b[0;32m~/anaconda2/envs/book5/lib/python3.6/site-packages/moviepy/decorators.py\u001b[0m in \u001b[0;36mconvert_masks_to_RGB\u001b[0;34m(f, clip, *a, **k)\u001b[0m\n\u001b[1;32m     20\u001b[0m     \u001b[0;32mif\u001b[0m \u001b[0mclip\u001b[0m\u001b[0;34m.\u001b[0m\u001b[0mismask\u001b[0m\u001b[0;34m:\u001b[0m\u001b[0;34m\u001b[0m\u001b[0m\n\u001b[1;32m     21\u001b[0m         \u001b[0mclip\u001b[0m \u001b[0;34m=\u001b[0m \u001b[0mclip\u001b[0m\u001b[0;34m.\u001b[0m\u001b[0mto_RGB\u001b[0m\u001b[0;34m(\u001b[0m\u001b[0;34m)\u001b[0m\u001b[0;34m\u001b[0m\u001b[0m\n\u001b[0;32m---> 22\u001b[0;31m     \u001b[0;32mreturn\u001b[0m \u001b[0mf\u001b[0m\u001b[0;34m(\u001b[0m\u001b[0mclip\u001b[0m\u001b[0;34m,\u001b[0m \u001b[0;34m*\u001b[0m\u001b[0ma\u001b[0m\u001b[0;34m,\u001b[0m \u001b[0;34m**\u001b[0m\u001b[0mk\u001b[0m\u001b[0;34m)\u001b[0m\u001b[0;34m\u001b[0m\u001b[0m\n\u001b[0m\u001b[1;32m     23\u001b[0m \u001b[0;34m\u001b[0m\u001b[0m\n\u001b[1;32m     24\u001b[0m \u001b[0;34m@\u001b[0m\u001b[0mdecorator\u001b[0m\u001b[0;34m.\u001b[0m\u001b[0mdecorator\u001b[0m\u001b[0;34m\u001b[0m\u001b[0m\n",
      "\u001b[0;32m~/anaconda2/envs/book5/lib/python3.6/site-packages/moviepy/video/VideoClip.py\u001b[0m in \u001b[0;36mwrite_videofile\u001b[0;34m(self, filename, fps, codec, bitrate, audio, audio_fps, preset, audio_nbytes, audio_codec, audio_bitrate, audio_bufsize, temp_audiofile, rewrite_audio, remove_temp, write_logfile, verbose, threads, ffmpeg_params, progress_bar)\u001b[0m\n\u001b[1;32m    325\u001b[0m                            \u001b[0mverbose\u001b[0m\u001b[0;34m=\u001b[0m\u001b[0mverbose\u001b[0m\u001b[0;34m,\u001b[0m \u001b[0mthreads\u001b[0m\u001b[0;34m=\u001b[0m\u001b[0mthreads\u001b[0m\u001b[0;34m,\u001b[0m\u001b[0;34m\u001b[0m\u001b[0m\n\u001b[1;32m    326\u001b[0m                            \u001b[0mffmpeg_params\u001b[0m\u001b[0;34m=\u001b[0m\u001b[0mffmpeg_params\u001b[0m\u001b[0;34m,\u001b[0m\u001b[0;34m\u001b[0m\u001b[0m\n\u001b[0;32m--> 327\u001b[0;31m                            progress_bar=progress_bar)\n\u001b[0m\u001b[1;32m    328\u001b[0m \u001b[0;34m\u001b[0m\u001b[0m\n\u001b[1;32m    329\u001b[0m         \u001b[0;32mif\u001b[0m \u001b[0mremove_temp\u001b[0m \u001b[0;32mand\u001b[0m \u001b[0mmake_audio\u001b[0m\u001b[0;34m:\u001b[0m\u001b[0;34m\u001b[0m\u001b[0m\n",
      "\u001b[0;32m~/anaconda2/envs/book5/lib/python3.6/site-packages/moviepy/video/io/ffmpeg_writer.py\u001b[0m in \u001b[0;36mffmpeg_write_video\u001b[0;34m(clip, filename, fps, codec, bitrate, preset, withmask, write_logfile, audiofile, verbose, threads, ffmpeg_params, progress_bar)\u001b[0m\n\u001b[1;32m    216\u001b[0m \u001b[0;34m\u001b[0m\u001b[0m\n\u001b[1;32m    217\u001b[0m         for t,frame in clip.iter_frames(progress_bar=progress_bar, with_times=True,\n\u001b[0;32m--> 218\u001b[0;31m                                         fps=fps, dtype=\"uint8\"):\n\u001b[0m\u001b[1;32m    219\u001b[0m             \u001b[0;32mif\u001b[0m \u001b[0mwithmask\u001b[0m\u001b[0;34m:\u001b[0m\u001b[0;34m\u001b[0m\u001b[0m\n\u001b[1;32m    220\u001b[0m                 \u001b[0mmask\u001b[0m \u001b[0;34m=\u001b[0m \u001b[0;34m(\u001b[0m\u001b[0;36m255\u001b[0m\u001b[0;34m*\u001b[0m\u001b[0mclip\u001b[0m\u001b[0;34m.\u001b[0m\u001b[0mmask\u001b[0m\u001b[0;34m.\u001b[0m\u001b[0mget_frame\u001b[0m\u001b[0;34m(\u001b[0m\u001b[0mt\u001b[0m\u001b[0;34m)\u001b[0m\u001b[0;34m)\u001b[0m\u001b[0;34m\u001b[0m\u001b[0m\n",
      "\u001b[0;32m~/anaconda2/envs/book5/lib/python3.6/site-packages/tqdm/_tqdm.py\u001b[0m in \u001b[0;36m__iter__\u001b[0;34m(self)\u001b[0m\n\u001b[1;32m    935\u001b[0m \"\"\", fp_write=getattr(self.fp, 'write', sys.stderr.write))\n\u001b[1;32m    936\u001b[0m \u001b[0;34m\u001b[0m\u001b[0m\n\u001b[0;32m--> 937\u001b[0;31m             \u001b[0;32mfor\u001b[0m \u001b[0mobj\u001b[0m \u001b[0;32min\u001b[0m \u001b[0miterable\u001b[0m\u001b[0;34m:\u001b[0m\u001b[0;34m\u001b[0m\u001b[0m\n\u001b[0m\u001b[1;32m    938\u001b[0m                 \u001b[0;32myield\u001b[0m \u001b[0mobj\u001b[0m\u001b[0;34m\u001b[0m\u001b[0m\n\u001b[1;32m    939\u001b[0m                 \u001b[0;31m# Update and possibly print the progressbar.\u001b[0m\u001b[0;34m\u001b[0m\u001b[0;34m\u001b[0m\u001b[0m\n",
      "\u001b[0;32m~/anaconda2/envs/book5/lib/python3.6/site-packages/moviepy/Clip.py\u001b[0m in \u001b[0;36mgenerator\u001b[0;34m()\u001b[0m\n\u001b[1;32m    473\u001b[0m         \u001b[0;32mdef\u001b[0m \u001b[0mgenerator\u001b[0m\u001b[0;34m(\u001b[0m\u001b[0;34m)\u001b[0m\u001b[0;34m:\u001b[0m\u001b[0;34m\u001b[0m\u001b[0m\n\u001b[1;32m    474\u001b[0m             \u001b[0;32mfor\u001b[0m \u001b[0mt\u001b[0m \u001b[0;32min\u001b[0m \u001b[0mnp\u001b[0m\u001b[0;34m.\u001b[0m\u001b[0marange\u001b[0m\u001b[0;34m(\u001b[0m\u001b[0;36m0\u001b[0m\u001b[0;34m,\u001b[0m \u001b[0mself\u001b[0m\u001b[0;34m.\u001b[0m\u001b[0mduration\u001b[0m\u001b[0;34m,\u001b[0m \u001b[0;36m1.0\u001b[0m\u001b[0;34m/\u001b[0m\u001b[0mfps\u001b[0m\u001b[0;34m)\u001b[0m\u001b[0;34m:\u001b[0m\u001b[0;34m\u001b[0m\u001b[0m\n\u001b[0;32m--> 475\u001b[0;31m                 \u001b[0mframe\u001b[0m \u001b[0;34m=\u001b[0m \u001b[0mself\u001b[0m\u001b[0;34m.\u001b[0m\u001b[0mget_frame\u001b[0m\u001b[0;34m(\u001b[0m\u001b[0mt\u001b[0m\u001b[0;34m)\u001b[0m\u001b[0;34m\u001b[0m\u001b[0m\n\u001b[0m\u001b[1;32m    476\u001b[0m                 \u001b[0;32mif\u001b[0m \u001b[0;34m(\u001b[0m\u001b[0mdtype\u001b[0m \u001b[0;32mis\u001b[0m \u001b[0;32mnot\u001b[0m \u001b[0;32mNone\u001b[0m\u001b[0;34m)\u001b[0m \u001b[0;32mand\u001b[0m \u001b[0;34m(\u001b[0m\u001b[0mframe\u001b[0m\u001b[0;34m.\u001b[0m\u001b[0mdtype\u001b[0m \u001b[0;34m!=\u001b[0m \u001b[0mdtype\u001b[0m\u001b[0;34m)\u001b[0m\u001b[0;34m:\u001b[0m\u001b[0;34m\u001b[0m\u001b[0m\n\u001b[1;32m    477\u001b[0m                     \u001b[0mframe\u001b[0m \u001b[0;34m=\u001b[0m \u001b[0mframe\u001b[0m\u001b[0;34m.\u001b[0m\u001b[0mastype\u001b[0m\u001b[0;34m(\u001b[0m\u001b[0mdtype\u001b[0m\u001b[0;34m)\u001b[0m\u001b[0;34m\u001b[0m\u001b[0m\n",
      "\u001b[0;32m<decorator-gen-134>\u001b[0m in \u001b[0;36mget_frame\u001b[0;34m(self, t)\u001b[0m\n",
      "\u001b[0;32m~/anaconda2/envs/book5/lib/python3.6/site-packages/moviepy/decorators.py\u001b[0m in \u001b[0;36mwrapper\u001b[0;34m(f, *a, **kw)\u001b[0m\n\u001b[1;32m     87\u001b[0m         new_kw = {k: fun(v) if k in varnames else v\n\u001b[1;32m     88\u001b[0m                  for (k,v) in kw.items()}\n\u001b[0;32m---> 89\u001b[0;31m         \u001b[0;32mreturn\u001b[0m \u001b[0mf\u001b[0m\u001b[0;34m(\u001b[0m\u001b[0;34m*\u001b[0m\u001b[0mnew_a\u001b[0m\u001b[0;34m,\u001b[0m \u001b[0;34m**\u001b[0m\u001b[0mnew_kw\u001b[0m\u001b[0;34m)\u001b[0m\u001b[0;34m\u001b[0m\u001b[0m\n\u001b[0m\u001b[1;32m     90\u001b[0m     \u001b[0;32mreturn\u001b[0m \u001b[0mdecorator\u001b[0m\u001b[0;34m.\u001b[0m\u001b[0mdecorator\u001b[0m\u001b[0;34m(\u001b[0m\u001b[0mwrapper\u001b[0m\u001b[0;34m)\u001b[0m\u001b[0;34m\u001b[0m\u001b[0m\n\u001b[1;32m     91\u001b[0m \u001b[0;34m\u001b[0m\u001b[0m\n",
      "\u001b[0;32m~/anaconda2/envs/book5/lib/python3.6/site-packages/moviepy/Clip.py\u001b[0m in \u001b[0;36mget_frame\u001b[0;34m(self, t)\u001b[0m\n\u001b[1;32m     92\u001b[0m                 \u001b[0;32mreturn\u001b[0m \u001b[0mframe\u001b[0m\u001b[0;34m\u001b[0m\u001b[0m\n\u001b[1;32m     93\u001b[0m         \u001b[0;32melse\u001b[0m\u001b[0;34m:\u001b[0m\u001b[0;34m\u001b[0m\u001b[0m\n\u001b[0;32m---> 94\u001b[0;31m             \u001b[0;32mreturn\u001b[0m \u001b[0mself\u001b[0m\u001b[0;34m.\u001b[0m\u001b[0mmake_frame\u001b[0m\u001b[0;34m(\u001b[0m\u001b[0mt\u001b[0m\u001b[0;34m)\u001b[0m\u001b[0;34m\u001b[0m\u001b[0m\n\u001b[0m\u001b[1;32m     95\u001b[0m \u001b[0;34m\u001b[0m\u001b[0m\n\u001b[1;32m     96\u001b[0m     \u001b[0;32mdef\u001b[0m \u001b[0mfl\u001b[0m\u001b[0;34m(\u001b[0m\u001b[0mself\u001b[0m\u001b[0;34m,\u001b[0m \u001b[0mfun\u001b[0m\u001b[0;34m,\u001b[0m \u001b[0mapply_to\u001b[0m\u001b[0;34m=\u001b[0m\u001b[0;32mNone\u001b[0m\u001b[0;34m,\u001b[0m \u001b[0mkeep_duration\u001b[0m\u001b[0;34m=\u001b[0m\u001b[0;32mTrue\u001b[0m\u001b[0;34m)\u001b[0m\u001b[0;34m:\u001b[0m\u001b[0;34m\u001b[0m\u001b[0m\n",
      "\u001b[0;32m~/anaconda2/envs/book5/lib/python3.6/site-packages/moviepy/Clip.py\u001b[0m in \u001b[0;36m<lambda>\u001b[0;34m(t)\u001b[0m\n\u001b[1;32m    135\u001b[0m \u001b[0;34m\u001b[0m\u001b[0m\n\u001b[1;32m    136\u001b[0m         \u001b[0;31m#mf = copy(self.make_frame)\u001b[0m\u001b[0;34m\u001b[0m\u001b[0;34m\u001b[0m\u001b[0m\n\u001b[0;32m--> 137\u001b[0;31m         \u001b[0mnewclip\u001b[0m \u001b[0;34m=\u001b[0m \u001b[0mself\u001b[0m\u001b[0;34m.\u001b[0m\u001b[0mset_make_frame\u001b[0m\u001b[0;34m(\u001b[0m\u001b[0;32mlambda\u001b[0m \u001b[0mt\u001b[0m\u001b[0;34m:\u001b[0m \u001b[0mfun\u001b[0m\u001b[0;34m(\u001b[0m\u001b[0mself\u001b[0m\u001b[0;34m.\u001b[0m\u001b[0mget_frame\u001b[0m\u001b[0;34m,\u001b[0m \u001b[0mt\u001b[0m\u001b[0;34m)\u001b[0m\u001b[0;34m)\u001b[0m\u001b[0;34m\u001b[0m\u001b[0m\n\u001b[0m\u001b[1;32m    138\u001b[0m \u001b[0;34m\u001b[0m\u001b[0m\n\u001b[1;32m    139\u001b[0m         \u001b[0;32mif\u001b[0m \u001b[0;32mnot\u001b[0m \u001b[0mkeep_duration\u001b[0m\u001b[0;34m:\u001b[0m\u001b[0;34m\u001b[0m\u001b[0m\n",
      "\u001b[0;32m~/anaconda2/envs/book5/lib/python3.6/site-packages/moviepy/video/VideoClip.py\u001b[0m in \u001b[0;36m<lambda>\u001b[0;34m(gf, t)\u001b[0m\n\u001b[1;32m    512\u001b[0m         \u001b[0;32mif\u001b[0m \u001b[0mapply_to\u001b[0m \u001b[0;32mis\u001b[0m \u001b[0;32mNone\u001b[0m\u001b[0;34m:\u001b[0m\u001b[0;34m\u001b[0m\u001b[0m\n\u001b[1;32m    513\u001b[0m             \u001b[0mapply_to\u001b[0m \u001b[0;34m=\u001b[0m \u001b[0;34m[\u001b[0m\u001b[0;34m]\u001b[0m\u001b[0;34m\u001b[0m\u001b[0m\n\u001b[0;32m--> 514\u001b[0;31m         \u001b[0;32mreturn\u001b[0m \u001b[0mself\u001b[0m\u001b[0;34m.\u001b[0m\u001b[0mfl\u001b[0m\u001b[0;34m(\u001b[0m\u001b[0;32mlambda\u001b[0m \u001b[0mgf\u001b[0m\u001b[0;34m,\u001b[0m \u001b[0mt\u001b[0m\u001b[0;34m:\u001b[0m \u001b[0mimage_func\u001b[0m\u001b[0;34m(\u001b[0m\u001b[0mgf\u001b[0m\u001b[0;34m(\u001b[0m\u001b[0mt\u001b[0m\u001b[0;34m)\u001b[0m\u001b[0;34m)\u001b[0m\u001b[0;34m,\u001b[0m \u001b[0mapply_to\u001b[0m\u001b[0;34m)\u001b[0m\u001b[0;34m\u001b[0m\u001b[0m\n\u001b[0m\u001b[1;32m    515\u001b[0m \u001b[0;34m\u001b[0m\u001b[0m\n\u001b[1;32m    516\u001b[0m     \u001b[0;31m# --------------------------------------------------------------\u001b[0m\u001b[0;34m\u001b[0m\u001b[0;34m\u001b[0m\u001b[0m\n",
      "\u001b[0;32m<ipython-input-2-4909b9b08028>\u001b[0m in \u001b[0;36minvert_VideoFileClip\u001b[0;34m(image)\u001b[0m\n\u001b[1;32m     12\u001b[0m \u001b[0;34m\u001b[0m\u001b[0m\n\u001b[1;32m     13\u001b[0m         \u001b[0mcrop\u001b[0m \u001b[0;34m=\u001b[0m \u001b[0mcrop_bb\u001b[0m\u001b[0;34m(\u001b[0m\u001b[0mshow_img\u001b[0m\u001b[0;34m,\u001b[0m \u001b[0mbbox\u001b[0m\u001b[0;34m)\u001b[0m\u001b[0;34m\u001b[0m\u001b[0m\n\u001b[0;32m---> 14\u001b[0;31m         \u001b[0mresized_im\u001b[0m\u001b[0;34m=\u001b[0m\u001b[0mcv2\u001b[0m\u001b[0;34m.\u001b[0m\u001b[0mresize\u001b[0m\u001b[0;34m(\u001b[0m\u001b[0mcrop\u001b[0m\u001b[0;34m,\u001b[0m\u001b[0;34m(\u001b[0m\u001b[0;36m32\u001b[0m\u001b[0;34m,\u001b[0m\u001b[0;36m32\u001b[0m\u001b[0;34m)\u001b[0m\u001b[0;34m)\u001b[0m\u001b[0;34m\u001b[0m\u001b[0m\n\u001b[0m\u001b[1;32m     15\u001b[0m \u001b[0;34m\u001b[0m\u001b[0m\n\u001b[1;32m     16\u001b[0m         \u001b[0;31m#plt.imshow(resized_im)\u001b[0m\u001b[0;34m\u001b[0m\u001b[0;34m\u001b[0m\u001b[0m\n",
      "\u001b[0;31merror\u001b[0m: OpenCV(3.4.3) /Users/travis/build/skvark/opencv-python/opencv/modules/imgproc/src/resize.cpp:4044: error: (-215:Assertion failed) !ssize.empty() in function 'resize'\n"
     ]
    },
    {
     "name": "stderr",
     "output_type": "stream",
     "text": [
      "\r",
      "  6%|▌         | 26/426 [00:20<00:27, 14.52it/s]"
     ]
    }
   ],
   "source": [
    "\n",
    "\n",
    "#实现回调函数 处理每一帧图像\n",
    "def invert_VideoFileClip(image):\n",
    "  \n",
    "    #归一化 非常重要\n",
    "    show_img=(image.copy() / 255.).astype(np.float32)\n",
    "    \n",
    "   \n",
    "    bboxes = find_circles(show_img, mg_ratio=0.4, n_circles=3)\n",
    "    for bbox in bboxes:\n",
    "        \n",
    "        crop = crop_bb(show_img, bbox)\n",
    "        resized_im=cv2.resize(crop,(32,32))\n",
    "\n",
    "        #plt.imshow(resized_im) \n",
    "        #plt.show() \n",
    "\n",
    "        resized_im=resized_im.reshape(INPUT_SHAPE)\n",
    "        #print(resized_im)\n",
    "        #resized_im =np.expand_dims(resized_im, axis=0)\n",
    "        #label = signnames[predict(model, resized_im)]\n",
    "        label = np.argmax(model.predict(resized_im)[0])\n",
    "        conf = np.max(softmax(model.predict(resized_im)[0]))\n",
    "        # Consider detection only if confidence is larger than threshold\n",
    "        print(\"label=[{}] id={} conf={}\".format(signnames[label],label,conf))\n",
    "        if (conf > CONF_THRES ) and  (label in cir_cls) :\n",
    "            print(\"Draw: label=[{}] id={} conf={}\".format(signnames[label],label,conf))\n",
    "            show_img = draw_bb(show_img, bbox)\n",
    "            # Put label and confidence\n",
    "            cv2.putText(show_img, '{}: {:.2f}'.format(signnames[label], conf), (bbox[0], bbox[1] - 10),\n",
    "                        cv2.FONT_HERSHEY_SIMPLEX, 1, (0, 1, 0), 2)\n",
    "            \n",
    "\n",
    "    show_img=np.uint8(show_img * 255)\n",
    "    return show_img\n",
    "\n",
    "clip = VideoFileClip(infile)\n",
    "modifiedClip = clip.fl_image(invert_VideoFileClip)\n",
    "modifiedClip.write_videofile(outfile)"
   ]
  },
  {
   "cell_type": "code",
   "execution_count": null,
   "metadata": {},
   "outputs": [],
   "source": []
  }
 ],
 "metadata": {
  "kernelspec": {
   "display_name": "Python 3",
   "language": "python",
   "name": "python3"
  },
  "language_info": {
   "codemirror_mode": {
    "name": "ipython",
    "version": 3
   },
   "file_extension": ".py",
   "mimetype": "text/x-python",
   "name": "python",
   "nbconvert_exporter": "python",
   "pygments_lexer": "ipython3",
   "version": "3.6.2"
  }
 },
 "nbformat": 4,
 "nbformat_minor": 2
}
