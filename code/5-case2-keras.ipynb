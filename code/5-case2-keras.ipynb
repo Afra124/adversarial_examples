{
 "cells": [
  {
   "cell_type": "code",
   "execution_count": 1,
   "metadata": {},
   "outputs": [
    {
     "name": "stderr",
     "output_type": "stream",
     "text": [
      "Using TensorFlow backend.\n"
     ]
    }
   ],
   "source": [
    "from keras.applications.resnet50 import preprocess_input, decode_predictions,ResNet50\n",
    "from keras.preprocessing import image\n",
    "import numpy as np\n",
    "from matplotlib import pyplot as plt \n"
   ]
  },
  {
   "cell_type": "code",
   "execution_count": 2,
   "metadata": {},
   "outputs": [],
   "source": [
    "from keras import backend as K\n",
    "import tensorflow as tf\n",
    "\n",
    "#烤面包机\n",
    "object_type_to_fake = 859\n",
    "\n",
    "INPUT_SHAPE=[1,224,224,3]\n",
    "OUTPUT_DIM=1000\n",
    "\n",
    "session=tf.Session()\n",
    "\n",
    "\n",
    "#x = K.placeholder(name='x', dtype='float32', shape=INPUT_SHAPE)\n",
    "y = K.placeholder(name='y', dtype='int32')\n",
    "\n",
    "# Optimize directly on noize (perturbation)\n",
    "#perturbation = tf.get_variable(name=\"perturbation\", shape=INPUT_SHAPE, dtype=tf.float32, initializer=tf.zeros_initializer)\n",
    "\n",
    "#x_perturbation = x + perturbation\n",
    "\n",
    "adv = tf.get_variable(name=\"adv\", shape=INPUT_SHAPE, dtype=tf.float32, initializer=tf.zeros_initializer)\n",
    "\n",
    "\n",
    "#使用基于imagenet2012训练的参数实例化ResNet50\n",
    "model = ResNet50(input_tensor=adv,weights='imagenet')\n",
    "\n",
    "logits = model.output"
   ]
  },
  {
   "cell_type": "code",
   "execution_count": 3,
   "metadata": {},
   "outputs": [
    {
     "name": "stdout",
     "output_type": "stream",
     "text": [
      "label=772\n"
     ]
    }
   ],
   "source": [
    "img = image.load_img(\"../picture/pig.jpg\", target_size=(224, 224))\n",
    "#plt.imshow(img) \n",
    "#plt.show() \n",
    "\n",
    "#print(img)\n",
    "original_image = image.img_to_array(img)\n",
    "original_image = np.expand_dims(original_image, axis=0)\n",
    "original_image = preprocess_input(original_image)\n",
    "#print(original_image)\n",
    "#preds = model.predict(original_image)\n",
    "#print('Predicted:', decode_predictions(preds, top=3)[0])\n",
    "\n",
    "#label=np.argmax(preds)\n",
    "\n",
    "#print(\"label={}\".format(label))\n",
    "\n",
    "#predictions=decode_predictions(preds, top=3)[0]\n",
    "#print(predictions)\n",
    "\n",
    "#print(logits)\n",
    "session.run(tf.global_variables_initializer())\n",
    "#session.run(tf.assign(perturbation,tf.zeros(INPUT_SHAPE)))\n",
    "\n",
    "#print(original_image)\n",
    "\n",
    "predictions=session.run([logits],{adv:original_image,K.learning_phase():False})\n",
    "\n",
    "#print(predictions)\n",
    "\n",
    "predictions = np.squeeze(predictions)\n",
    "label=np.argmax(predictions)\n",
    "print(\"label={}\".format(label))"
   ]
  },
  {
   "cell_type": "code",
   "execution_count": null,
   "metadata": {},
   "outputs": [
    {
     "name": "stdout",
     "output_type": "stream",
     "text": [
      "epoch=0 loss=[6.9094715] label=188\n",
      "epoch=1 loss=[6.9094715] label=188\n",
      "epoch=2 loss=[6.9094715] label=188\n",
      "epoch=3 loss=[6.9094715] label=188\n",
      "epoch=4 loss=[6.9094715] label=188\n",
      "epoch=5 loss=[6.9094715] label=188\n",
      "epoch=6 loss=[6.9094715] label=188\n",
      "epoch=7 loss=[6.9094715] label=188\n",
      "epoch=8 loss=[6.9094715] label=188\n",
      "epoch=9 loss=[6.9094715] label=188\n",
      "epoch=10 loss=[6.9094715] label=188\n",
      "epoch=11 loss=[6.9094715] label=188\n",
      "epoch=12 loss=[6.9094715] label=188\n",
      "epoch=13 loss=[6.9094715] label=188\n",
      "epoch=14 loss=[6.9094715] label=188\n",
      "epoch=15 loss=[6.9094715] label=188\n",
      "epoch=16 loss=[6.9094715] label=188\n",
      "epoch=17 loss=[6.9094715] label=188\n",
      "epoch=18 loss=[6.9094715] label=188\n",
      "epoch=19 loss=[6.9094715] label=188\n",
      "epoch=20 loss=[6.9094715] label=188\n",
      "epoch=21 loss=[6.9094715] label=188\n",
      "epoch=22 loss=[6.9094715] label=188\n",
      "epoch=23 loss=[6.9094715] label=188\n"
     ]
    }
   ],
   "source": [
    "#迭代求解\n",
    "epochs=500\n",
    "lr=0.1\n",
    "target_label=288\n",
    "\n",
    "\n",
    "#优化器调整的参数\n",
    "var_list = [adv]\n",
    "#损失函数/目标函数\n",
    "#f=K.categorical_crossentropy(y, logits, from_logits=False)[0]\n",
    "f = tf.nn.sparse_softmax_cross_entropy_with_logits(logits=logits, labels=[y])\n",
    "optimizer = tf.train.AdamOptimizer(\n",
    "                learning_rate=lr, beta1=0.9, beta2=0.999, epsilon=1e-08)\n",
    "train_step = optimizer.minimize(f, var_list=var_list)\n",
    "\n",
    "\n",
    "# 初始化参数  非常重要 Adam的参数也需要这样初始化 GradientDescent可以省略这一步\n",
    "session.run(tf.global_variables_initializer())\n",
    "\n",
    "session.run(tf.assign(adv,original_image))\n",
    "\n",
    "#K.learning_phase(): False 设置为预测模式\n",
    "#To make use of the learning phase, simply pass the value \"1\" (training mode) or \"0\" (test mode) to feed_dict:\n",
    "for epoch in range(epochs):\n",
    "    \n",
    "    loss,_,adv_img,predictions=session.run([f,train_step,adv,logits],\n",
    "                                           {y:target_label,K.learning_phase():False})\n",
    "    \n",
    "    predictions = np.squeeze(predictions)\n",
    "    label=np.argmax(predictions)\n",
    "    \n",
    "    print(\"epoch={} loss={} label={}\".format(epoch,loss,label))\n",
    "    \n",
    "    #如果定向攻击成功\n",
    "    if label == target_label:\n",
    "        #preds = model.predict(adv_img)\n",
    "        #print('Predicted:', decode_predictions(preds, top=3)[0])\n",
    "\n",
    "        #predictions=decode_predictions(preds, top=3)[0]\n",
    "        #print(predictions)\n",
    "        break  \n"
   ]
  },
  {
   "cell_type": "code",
   "execution_count": null,
   "metadata": {},
   "outputs": [],
   "source": []
  },
  {
   "cell_type": "code",
   "execution_count": null,
   "metadata": {},
   "outputs": [],
   "source": []
  }
 ],
 "metadata": {
  "kernelspec": {
   "display_name": "Python 3",
   "language": "python",
   "name": "python3"
  },
  "language_info": {
   "codemirror_mode": {
    "name": "ipython",
    "version": 3
   },
   "file_extension": ".py",
   "mimetype": "text/x-python",
   "name": "python",
   "nbconvert_exporter": "python",
   "pygments_lexer": "ipython3",
   "version": "3.6.2"
  }
 },
 "nbformat": 4,
 "nbformat_minor": 2
}
