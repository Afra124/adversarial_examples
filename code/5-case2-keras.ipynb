{
 "cells": [
  {
   "cell_type": "code",
   "execution_count": 1,
   "metadata": {},
   "outputs": [
    {
     "name": "stderr",
     "output_type": "stream",
     "text": [
      "Using TensorFlow backend.\n"
     ]
    },
    {
     "data": {
      "text/plain": [
       "<Figure size 640x480 with 1 Axes>"
      ]
     },
     "metadata": {},
     "output_type": "display_data"
    },
    {
     "name": "stdout",
     "output_type": "stream",
     "text": [
      "Predicted: [('n02395406', 'hog', 0.98398596), ('n02396427', 'wild_boar', 0.0074134255), ('n03935335', 'piggy_bank', 0.006954492)]\n",
      "[('n02395406', 'hog', 0.98398596), ('n02396427', 'wild_boar', 0.0074134255), ('n03935335', 'piggy_bank', 0.006954492)]\n"
     ]
    }
   ],
   "source": [
    "from keras.applications.resnet50 import preprocess_input, decode_predictions,ResNet50\n",
    "from keras.preprocessing import image\n",
    "import numpy as np\n",
    "from matplotlib import pyplot as plt \n",
    "\n",
    "model = ResNet50(weights='imagenet')\n",
    "img = image.load_img(\"../picture/pig.jpg\", target_size=(224, 224))\n",
    "plt.imshow(img) \n",
    "plt.show() \n",
    "\n",
    "original_image = image.img_to_array(img)\n",
    "original_image = np.expand_dims(original_image, axis=0)\n",
    "original_image = preprocess_input(original_image)\n",
    "\n",
    "preds = model.predict(original_image)\n",
    "print('Predicted:', decode_predictions(preds, top=3)[0])\n",
    "\n",
    "predictions=decode_predictions(preds, top=3)[0]\n",
    "print(predictions)\n"
   ]
  },
  {
   "cell_type": "code",
   "execution_count": 2,
   "metadata": {},
   "outputs": [
    {
     "ename": "NameError",
     "evalue": "name 'f' is not defined",
     "output_type": "error",
     "traceback": [
      "\u001b[0;31m---------------------------------------------------------------------------\u001b[0m",
      "\u001b[0;31mNameError\u001b[0m                                 Traceback (most recent call last)",
      "\u001b[0;32m<ipython-input-2-ebfb02696182>\u001b[0m in \u001b[0;36m<module>\u001b[0;34m\u001b[0m\n\u001b[1;32m     26\u001b[0m                 learning_rate=lr, beta1=0.9, beta2=0.999, epsilon=1e-08)\n\u001b[1;32m     27\u001b[0m opt = optimizer.minimize(\n\u001b[0;32m---> 28\u001b[0;31m                 f, var_list=var_list, global_step=global_step)\n\u001b[0m\u001b[1;32m     29\u001b[0m \u001b[0;34m\u001b[0m\u001b[0m\n",
      "\u001b[0;31mNameError\u001b[0m: name 'f' is not defined"
     ]
    }
   ],
   "source": [
    "from keras import backend as K\n",
    "import tensorflow as tf\n",
    "\n",
    "#烤面包机\n",
    "object_type_to_fake = 859\n",
    "\n",
    "INPUT_SHAPE=[224,224,3]\n",
    "OUTPUT_DIM=1000\n",
    "init_scl=0.1\n",
    "lr=0.01\n",
    "# Initialize variables\n",
    "init_val = tf.random_uniform(INPUT_SHAPE, minval=-init_scl,maxval=init_scl, dtype=tf.float32)\n",
    "\n",
    "x = K.placeholder(name='x', dtype='float32', shape=INPUT_SHAPE)\n",
    "y = K.placeholder(name='y', dtype='int32')\n",
    "\n",
    "# Optimize directly on d (perturbation)\n",
    "d = tf.Variable(initial_value=init_val, trainable=True,dtype=tf.float32)\n",
    "\n",
    "var_list = [d]\n",
    "\n",
    "x_in = x + d\n",
    "\n",
    "global_step = tf.Variable(0, trainable=False)\n",
    "optimizer = tf.train.AdamOptimizer(\n",
    "                learning_rate=lr, beta1=0.9, beta2=0.999, epsilon=1e-08)\n",
    "opt = optimizer.minimize(\n",
    "                f, var_list=var_list, global_step=global_step)\n",
    "\n"
   ]
  },
  {
   "cell_type": "code",
   "execution_count": null,
   "metadata": {},
   "outputs": [],
   "source": []
  }
 ],
 "metadata": {
  "kernelspec": {
   "display_name": "Python 3",
   "language": "python",
   "name": "python3"
  },
  "language_info": {
   "codemirror_mode": {
    "name": "ipython",
    "version": 3
   },
   "file_extension": ".py",
   "mimetype": "text/x-python",
   "name": "python",
   "nbconvert_exporter": "python",
   "pygments_lexer": "ipython3",
   "version": "3.6.2"
  }
 },
 "nbformat": 4,
 "nbformat_minor": 2
}
